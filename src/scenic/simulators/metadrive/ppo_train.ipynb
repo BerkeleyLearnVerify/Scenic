{
 "cells": [
  {
   "cell_type": "code",
   "execution_count": 1,
   "id": "931f5618",
   "metadata": {},
   "outputs": [
    {
     "name": "stderr",
     "output_type": "stream",
     "text": [
      "/Users/kxu/ScenicGym/src/scenic/core/errors.py:271: UserWarning: unable to install sys.excepthook to format Scenic backtraces\n",
      "  warnings.warn(\"unable to install sys.excepthook to format Scenic backtraces\")\n"
     ]
    }
   ],
   "source": [
    "from scenic.zoo import ScenicZooEnv\n",
    "from scenic.simulators.metadrive import MetaDriveSimulator\n",
    "import scenic\n",
    "import gymnasium as gym\n",
    "import numpy as np\n",
    "# from stable_baselines3 import PPO\n",
    "# from stable_baselines3.ppo import MlpPolicy\n",
    "# from stable_baselines3.common.monitor import Monitor\n",
    "# from stable_baselines3.common.vec_env.subproc_vec_env import SubprocVecEnv\n",
    "# from stable_baselines3.common.vec_env import DummyVecEnv\n",
    "# from stable_baselines3.common.utils import set_random_seed\n",
    "# import supersuit as ss\n",
    "import os\n",
    "\n",
    "\n",
    "# %%\n",
    "import contextlib\n",
    "import logging\n",
    "import pathlib\n",
    "import time\n",
    "# from collections import deque\n",
    "# from dataclasses import dataclass\n",
    "import torch\n",
    "import torch.multiprocessing as mp\n",
    "import tyro\n",
    "from torch import nn, optim"
   ]
  },
  {
   "cell_type": "code",
   "execution_count": 2,
   "id": "14aee22a",
   "metadata": {},
   "outputs": [],
   "source": [
    "root_user = os.path.expanduser(\"~\")\n",
    "root_user\n",
    "\n",
    "with contextlib.suppress(RuntimeError):\n",
    "        mp.set_start_method(\"spawn\")"
   ]
  },
  {
   "cell_type": "code",
   "execution_count": 3,
   "id": "cca76cee",
   "metadata": {},
   "outputs": [],
   "source": [
    "sumo_map = root_user + \"/ScenicGym/assets/maps/CARLA/Town04.net.xml\"\n",
    "obs_space_dict = {\"agent0\" :  gym.spaces.Box(-0.0, 1.0 , (252,), dtype=np.float32),\n",
    "                 \"agent1\": gym.spaces.Box(-0.0, 1.0 , (252,), dtype=np.float32)}\n",
    "\n",
    "action_space_dict = {'agent0': gym.spaces.Box(-1.0, 1.0, (2,), np.float32),\n",
    "                     'agent1': gym.spaces.Box(-1.0, 1.0, (2,), np.float32)}"
   ]
  },
  {
   "cell_type": "code",
   "execution_count": 4,
   "id": "be0ff89d",
   "metadata": {},
   "outputs": [],
   "source": [
    "render_and_rt = False\n",
    "\n",
    "scenario = scenic.scenarioFromFile(\"exp_local.scenic\",\n",
    "                               model=\"scenic.simulators.metadrive.model\",\n",
    "                           mode2D=True)\n",
    "env = ScenicZooEnv(scenario, \n",
    "                       MetaDriveSimulator(sumo_map=sumo_map, render=render_and_rt, real_time=render_and_rt),\n",
    "                       None, \n",
    "                       max_steps=70, \n",
    "                       observation_space = obs_space_dict, \n",
    "                       action_space = action_space_dict, \n",
    "                       agents=[\"agent0\", \"agent1\"])"
   ]
  },
  {
   "cell_type": "code",
   "execution_count": null,
   "id": "aaf620fb",
   "metadata": {
    "scrolled": false
   },
   "outputs": [
    {
     "name": "stdout",
     "output_type": "stream",
     "text": [
      "feedback result: None\n",
      "episode: 0\n",
      "-16.96327375131068\n",
      "feedback result: -16.96327375131068\n",
      "episode: 1\n",
      "2.937411596631737\n",
      "feedback result: 2.937411596631737\n",
      "episode: 2\n",
      "-16.963273788826406\n",
      "feedback result: -16.963273788826406\n",
      "episode: 3\n",
      "-16.96327375131068\n",
      "feedback result: -16.96327375131068\n",
      "episode: 4\n",
      "2.858359024318342\n",
      "feedback result: 2.858359024318342\n",
      "episode: 5\n",
      "-16.963273788826406\n",
      "feedback result: -16.963273788826406\n",
      "episode: 6\n",
      "1.5904512041718126\n",
      "feedback result: 1.5904512041718126\n"
     ]
    }
   ],
   "source": [
    "env.reset()\n",
    "action = dict(agent0 = [0.1, 0.5], agent1=[0.1, 0.5]) # First is throttle, second is steering\n",
    "\n",
    "for episode in range(10):\n",
    "    print(f\"episode: {episode}\")\n",
    "    for i in range(2000):\n",
    "        \n",
    "        action = dict(agent0 = [0.1 + i * 1e-5, 0.5], agent1=[0.1 + i * 1e-5, 0.5])\n",
    "        \n",
    "        o, r, te, tc, info = env.step(action)\n",
    "#         print(f\"STEP RECEIVED REWARD: {r}\\n\")\n",
    "#         print(f\"observation agent 1 shappe: {o['agent0'].shape}\")\n",
    "#         print(f\"observation agent 2shappe: {o['agent1'].shape}\")\n",
    "#         print(f\"observation: {o['agent0']}\")\n",
    "#         if tc:\n",
    "#             print(f\"TRUNCATED\")\n",
    "        if te:\n",
    "#             print(f\"RECEIVED LAST REWARD: {r}\\n\")\n",
    "            break\n",
    "    env.reset()\n",
    "        \n",
    "env.close()\n",
    "print(\"We done\")"
   ]
  },
  {
   "cell_type": "markdown",
   "id": "5e1ad65e",
   "metadata": {},
   "source": [
    "# "
   ]
  }
 ],
 "metadata": {
  "kernelspec": {
   "display_name": "Python 3 (ipykernel)",
   "language": "python",
   "name": "python3"
  },
  "language_info": {
   "codemirror_mode": {
    "name": "ipython",
    "version": 3
   },
   "file_extension": ".py",
   "mimetype": "text/x-python",
   "name": "python",
   "nbconvert_exporter": "python",
   "pygments_lexer": "ipython3",
   "version": "3.10.0"
  }
 },
 "nbformat": 4,
 "nbformat_minor": 5
}
