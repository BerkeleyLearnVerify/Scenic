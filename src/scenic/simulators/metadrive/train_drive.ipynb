{
 "cells": [
  {
   "cell_type": "code",
   "execution_count": 1,
   "id": "11cd1851",
   "metadata": {},
   "outputs": [
    {
     "name": "stderr",
     "output_type": "stream",
     "text": [
      "/Users/kxu/ScenicGym/src/scenic/core/errors.py:271: UserWarning: unable to install sys.excepthook to format Scenic backtraces\n",
      "  warnings.warn(\"unable to install sys.excepthook to format Scenic backtraces\")\n"
     ]
    }
   ],
   "source": [
    "from scenic.zoo import ScenicZooEnv\n",
    "import scenic"
   ]
  },
  {
   "cell_type": "code",
   "execution_count": 2,
   "id": "d361f0e0",
   "metadata": {},
   "outputs": [],
   "source": [
    "from scenic.simulators.metadrive import MetaDriveSimulator"
   ]
  },
  {
   "cell_type": "code",
   "execution_count": 3,
   "id": "4feb5371",
   "metadata": {},
   "outputs": [],
   "source": [
    "import os"
   ]
  },
  {
   "cell_type": "code",
   "execution_count": 4,
   "id": "1ece18ee",
   "metadata": {},
   "outputs": [
    {
     "data": {
      "text/plain": [
       "'/Users/kxu/ScenicGym/src/scenic/simulators/metadrive'"
      ]
     },
     "execution_count": 4,
     "metadata": {},
     "output_type": "execute_result"
    }
   ],
   "source": [
    "os.getcwd()"
   ]
  },
  {
   "cell_type": "code",
   "execution_count": 5,
   "id": "7444dbb3",
   "metadata": {},
   "outputs": [
    {
     "data": {
      "text/plain": [
       "'/Users/kxu'"
      ]
     },
     "execution_count": 5,
     "metadata": {},
     "output_type": "execute_result"
    }
   ],
   "source": [
    "root_user = os.path.expanduser(\"~\")\n",
    "root_user"
   ]
  },
  {
   "cell_type": "code",
   "execution_count": 6,
   "id": "c5e0bf85",
   "metadata": {},
   "outputs": [],
   "source": [
    "sumo_map = root_user + \"/ScenicGym/assets/maps/CARLA/Town01.net.xml\""
   ]
  },
  {
   "cell_type": "code",
   "execution_count": 7,
   "id": "dc0ecf94",
   "metadata": {},
   "outputs": [
    {
     "name": "stdout",
     "output_type": "stream",
     "text": [
      "SIMULAOTR SUMO MAP /Users/kxu/ScenicGym/assets/maps/CARLA/Town01.net.xml\n"
     ]
    }
   ],
   "source": [
    "scenario = scenic.scenarioFromFile(\"intersect_drive.scenic\",\n",
    "                                   model=\"scenic.simulators.metadrive.model\",\n",
    "                               mode2D=True)\n",
    "\n",
    "env = ScenicZooEnv(scenario, MetaDriveSimulator(sumo_map=sumo_map), None, max_steps=50)"
   ]
  },
  {
   "cell_type": "code",
   "execution_count": 8,
   "id": "2aadf9a5",
   "metadata": {},
   "outputs": [
    {
     "name": "stdout",
     "output_type": "stream",
     "text": [
      "CONVERTED POS: (142.84, -43.72)\n",
      "obs: <metadrive.obs.state_obs.LidarStateObservation object at 0x2a0b2a830>\n",
      "obs: <metadrive.obs.state_obs.LidarStateObservation object at 0x2a0b2a8f0>\n",
      "SUMO MAP /Users/kxu/ScenicGym/assets/maps/CARLA/Town01.net.xml\n",
      "AGENT MANAGER TYPE: <class 'metadrive.manager.agent_manager.VehicleAgentManager'>\n",
      "ENGINE TYPE: <class 'metadrive.engine.base_engine.BaseEngine'>\n"
     ]
    }
   ],
   "source": [
    "env.reset()"
   ]
  },
  {
   "cell_type": "code",
   "execution_count": 9,
   "id": "4ad28184",
   "metadata": {},
   "outputs": [
    {
     "name": "stdout",
     "output_type": "stream",
     "text": [
      "We done\n"
     ]
    }
   ],
   "source": [
    "action = dict(agent0 = [1, 0], agent1=[0, 0])\n",
    "for _ in range(2000):\n",
    "    o, r, te, tc, info = env.step(action)\n",
    "    if te or tc:\n",
    "        break\n",
    "        \n",
    "env.close()\n",
    "print(\"We done\")\n",
    "    "
   ]
  },
  {
   "cell_type": "code",
   "execution_count": null,
   "id": "b64541de",
   "metadata": {},
   "outputs": [],
   "source": []
  }
 ],
 "metadata": {
  "kernelspec": {
   "display_name": "Python 3 (ipykernel)",
   "language": "python",
   "name": "python3"
  },
  "language_info": {
   "codemirror_mode": {
    "name": "ipython",
    "version": 3
   },
   "file_extension": ".py",
   "mimetype": "text/x-python",
   "name": "python",
   "nbconvert_exporter": "python",
   "pygments_lexer": "ipython3",
   "version": "3.10.0"
  }
 },
 "nbformat": 4,
 "nbformat_minor": 5
}
