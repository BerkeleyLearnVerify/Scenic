{
 "cells": [
  {
   "cell_type": "code",
   "execution_count": 1,
   "id": "931f5618",
   "metadata": {},
   "outputs": [
    {
     "name": "stderr",
     "output_type": "stream",
     "text": [
      "/Users/kxu/ScenicGym/src/scenic/core/errors.py:271: UserWarning: unable to install sys.excepthook to format Scenic backtraces\n",
      "  warnings.warn(\"unable to install sys.excepthook to format Scenic backtraces\")\n"
     ]
    }
   ],
   "source": [
    "from scenic.zoo import ScenicZooEnv\n",
    "import scenic\n",
    "import gymnasium as gym\n",
    "import numpy as np"
   ]
  },
  {
   "cell_type": "code",
   "execution_count": 2,
   "id": "f4662e28",
   "metadata": {},
   "outputs": [],
   "source": [
    "from scenic.simulators.metadrive import MetaDriveSimulator"
   ]
  },
  {
   "cell_type": "code",
   "execution_count": 3,
   "id": "a06521ce",
   "metadata": {},
   "outputs": [],
   "source": [
    "import os"
   ]
  },
  {
   "cell_type": "code",
   "execution_count": 4,
   "id": "a01a36a4",
   "metadata": {},
   "outputs": [
    {
     "data": {
      "text/plain": [
       "'/Users/kxu/ScenicGym/src/scenic/simulators/metadrive'"
      ]
     },
     "execution_count": 4,
     "metadata": {},
     "output_type": "execute_result"
    }
   ],
   "source": [
    "os.getcwd()"
   ]
  },
  {
   "cell_type": "code",
   "execution_count": 5,
   "id": "e12b34e8",
   "metadata": {},
   "outputs": [
    {
     "data": {
      "text/plain": [
       "'/Users/kxu'"
      ]
     },
     "execution_count": 5,
     "metadata": {},
     "output_type": "execute_result"
    }
   ],
   "source": [
    "root_user = os.path.expanduser(\"~\")\n",
    "root_user"
   ]
  },
  {
   "cell_type": "code",
   "execution_count": null,
   "id": "00977f26",
   "metadata": {},
   "outputs": [],
   "source": []
  },
  {
   "cell_type": "code",
   "execution_count": 6,
   "id": "7b427fbc",
   "metadata": {},
   "outputs": [],
   "source": [
    "sumo_map = root_user + \"/ScenicGym/assets/maps/CARLA/Town01.net.xml\""
   ]
  },
  {
   "cell_type": "code",
   "execution_count": 7,
   "id": "cca76cee",
   "metadata": {},
   "outputs": [],
   "source": [
    "obs_space_dict = {\"agent0\" :  gym.spaces.Box(-0.0, 1.0 , (249,), dtype=np.float32),\n",
    "                 \"agent1\": gym.spaces.Box(-0.0, 1.0 , (249,), dtype=np.float32)}\n",
    "\n",
    "action_space_dict = {'agent0': gym.spaces.Box(-1.0, 1.0, (2,), np.float32),\n",
    "                     'agent1': gym.spaces.Box(-1.0, 1.0, (2,), np.float32)}"
   ]
  },
  {
   "cell_type": "code",
   "execution_count": 8,
   "id": "796a7311",
   "metadata": {},
   "outputs": [
    {
     "name": "stdout",
     "output_type": "stream",
     "text": [
      "SIMULAOTR SUMO MAP /Users/kxu/ScenicGym/assets/maps/CARLA/Town01.net.xml\n"
     ]
    }
   ],
   "source": [
    "scenario = scenic.scenarioFromFile(\"intersect_drive.scenic\",\n",
    "                                   model=\"scenic.simulators.metadrive.model\",\n",
    "                               mode2D=True)\n",
    "\n",
    "env = ScenicZooEnv(scenario, \n",
    "                   MetaDriveSimulator(sumo_map=sumo_map, render=False, real_time=False),\n",
    "                   None, \n",
    "                   max_steps=50, \n",
    "                   observation_space = obs_space_dict, \n",
    "                   action_space = action_space_dict)"
   ]
  },
  {
   "cell_type": "code",
   "execution_count": 9,
   "id": "2c7285b1",
   "metadata": {},
   "outputs": [
    {
     "name": "stdout",
     "output_type": "stream",
     "text": [
      "CONVERTED POS: (142.84, -43.72)\n",
      "obs: <metadrive.obs.state_obs.LidarStateObservation object at 0x2a88d69e0>\n",
      "OBS SPCE: Box(-0.0, 1.0, (249,), float32)\n",
      "obs: <metadrive.obs.state_obs.LidarStateObservation object at 0x2a88d6530>\n",
      "OBS SPCE: Box(-0.0, 1.0, (249,), float32)\n",
      "SUMO MAP /Users/kxu/ScenicGym/assets/maps/CARLA/Town01.net.xml\n",
      "AGENT MANAGER TYPE: <class 'metadrive.manager.agent_manager.VehicleAgentManager'>\n",
      "ENGINE TYPE: <class 'metadrive.engine.base_engine.BaseEngine'>\n",
      "Action Spaces: {'agent0': Box(-1.0, 1.0, (2,), float32), 'agent1': Box(-1.0, 1.0, (2,), float32)}\n"
     ]
    }
   ],
   "source": [
    "env.reset()"
   ]
  },
  {
   "cell_type": "code",
   "execution_count": 10,
   "id": "9d74f2a2",
   "metadata": {},
   "outputs": [
    {
     "name": "stdout",
     "output_type": "stream",
     "text": [
      "We done\n"
     ]
    }
   ],
   "source": [
    "action = dict(agent0 = [1, 0], agent1=[0, 0])\n",
    "for _ in range(2000):\n",
    "    o, r, te, tc, info = env.step(action)\n",
    "    if te or tc:\n",
    "        break\n",
    "        \n",
    "env.close()\n",
    "print(\"We done\")\n",
    "    "
   ]
  },
  {
   "cell_type": "code",
   "execution_count": null,
   "id": "731da071",
   "metadata": {},
   "outputs": [],
   "source": []
  }
 ],
 "metadata": {
  "kernelspec": {
   "display_name": "Python 3 (ipykernel)",
   "language": "python",
   "name": "python3"
  },
  "language_info": {
   "codemirror_mode": {
    "name": "ipython",
    "version": 3
   },
   "file_extension": ".py",
   "mimetype": "text/x-python",
   "name": "python",
   "nbconvert_exporter": "python",
   "pygments_lexer": "ipython3",
   "version": "3.10.0"
  }
 },
 "nbformat": 4,
 "nbformat_minor": 5
}
