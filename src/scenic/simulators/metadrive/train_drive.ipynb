{
 "cells": [
  {
   "cell_type": "code",
   "execution_count": 2,
   "id": "0a406dac",
   "metadata": {},
   "outputs": [],
   "source": [
    "from scenic.zoo import ScenicZooEnv\n",
    "import scenic"
   ]
  },
  {
   "cell_type": "code",
   "execution_count": 3,
   "id": "3bb08b67",
   "metadata": {},
   "outputs": [],
   "source": [
    "from scenic.simulators.metadrive import MetaDriveSimulator"
   ]
  },
  {
   "cell_type": "code",
   "execution_count": 6,
   "id": "0dfcfef4",
   "metadata": {},
   "outputs": [],
   "source": [
    "import os"
   ]
  },
  {
   "cell_type": "code",
   "execution_count": 8,
   "id": "d13aa1a9",
   "metadata": {},
   "outputs": [
    {
     "data": {
      "text/plain": [
       "'/Users/kxu/ScenicGym/src/scenic/simulators/metadrive'"
      ]
     },
     "execution_count": 8,
     "metadata": {},
     "output_type": "execute_result"
    }
   ],
   "source": [
    "os.getcwd()"
   ]
  },
  {
   "cell_type": "code",
   "execution_count": null,
   "id": "cece08c4",
   "metadata": {},
   "outputs": [],
   "source": [
    "scenario = scenic.scenarioFromFile(\"intersect_drive.scenic\",\n",
    "                                   model=\"scenic.simulators.metadrive.model\",\n",
    "                               mode2D=True)\n",
    "\n",
    "env = ScenicGymEnv(scenario, NewtonianSimulator(), None, max_steps=40)"
   ]
  }
 ],
 "metadata": {
  "kernelspec": {
   "display_name": "Python 3 (ipykernel)",
   "language": "python",
   "name": "python3"
  },
  "language_info": {
   "codemirror_mode": {
    "name": "ipython",
    "version": 3
   },
   "file_extension": ".py",
   "mimetype": "text/x-python",
   "name": "python",
   "nbconvert_exporter": "python",
   "pygments_lexer": "ipython3",
   "version": "3.10.0"
  }
 },
 "nbformat": 4,
 "nbformat_minor": 5
}
