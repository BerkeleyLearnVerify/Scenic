{
 "cells": [
  {
   "cell_type": "code",
   "execution_count": 2,
   "id": "00c0a66b",
   "metadata": {},
   "outputs": [
    {
     "name": "stderr",
     "output_type": "stream",
     "text": [
      "/Users/kxu/ScenicGym/src/scenic/core/errors.py:271: UserWarning: unable to install sys.excepthook to format Scenic backtraces\n",
      "  warnings.warn(\"unable to install sys.excepthook to format Scenic backtraces\")\n"
     ]
    }
   ],
   "source": [
    "from scenic.gym import ScenicGymEnv\n",
    "import scenic\n",
    "from scenic.simulators.newtonian_gym import NewtonianSimulator\n",
    "import numpy as np\n",
    "import os"
   ]
  },
  {
   "cell_type": "code",
   "execution_count": 17,
   "id": "d31fed22",
   "metadata": {},
   "outputs": [
    {
     "name": "stdout",
     "output_type": "stream",
     "text": [
      "Vector(-146.22503779008622, -148.36240074539444, 0.0)\n",
      "Vector(-146.28103688653792, -148.36208263127378, 0.0)\n",
      "Vector(-146.36502400082216, -148.36061136168428, 0.0)\n",
      "Vector(-146.47700135782932, -148.3583593586442, 0.0)\n",
      "Vector(-146.61696241783557, -148.35505758912916, 0.0)\n",
      "Vector(-146.78489668635288, -148.35035849798805, 0.0)\n",
      "Vector(-146.98078823265865, -148.34383913560083, 0.0)\n",
      "Vector(-147.20461400054563, -148.3350059238516, 0.0)\n",
      "Vector(-147.4563421237015, -148.32330327404776, 0.0)\n",
      "Vector(-147.73593053157487, -148.30812690482327, 0.0)\n",
      "Vector(-148.04332623066054, -148.28884260593466, 0.0)\n",
      "Vector(-148.37846572629746, -148.26481099208496, 0.0)\n",
      "Vector(-148.7412770811104, -148.23541846210213, 0.0)\n",
      "Vector(-149.13168405163444, -148.2001141087409, 0.0)\n",
      "Vector(-149.5496125678986, -148.1584517121075, 0.0)\n",
      "Vector(-149.99499949624658, -148.1101352133027, 0.0)\n",
      "Vector(-150.46780315392934, -148.05506524615356, 0.0)\n",
      "Vector(-150.96801446795052, -147.99338347149367, 0.0)\n",
      "Vector(-151.49566708775404, -147.92551070217874, 0.0)\n",
      "Vector(-152.05084432351535, -147.85217423858498, 0.0)\n",
      "Vector(-152.63368067481846, -147.77441957570448, 0.0)\n",
      "Vector(-153.2443561126078, -147.69360181972954, 0.0)\n",
      "Vector(-153.88308227694515, -147.61135288666125, 0.0)\n",
      "Vector(-154.55008130183256, -147.52952195852743, 0.0)\n",
      "Vector(-155.24555982572892, -147.45008882438964, 0.0)\n",
      "Vector(-155.96968244782687, -147.3750526453426, 0.0)\n",
      "Vector(-156.7225498873001, -147.3063022374817, 0.0)\n",
      "Vector(-157.5041868830226, -147.24547784337975, 0.0)\n",
      "Vector(-158.3145431779778, -147.19383798255024, 0.0)\n",
      "Vector(-159.15350795953648, -147.15214751236587, 0.0)\n",
      "Vector(-160.02093460119568, -147.12060355351733, 0.0)\n",
      "Vector(-160.91639574083965, -147.08953351348663, 0.0)\n",
      "Vector(-161.8397627917622, -147.05533864149425, 0.0)\n",
      "Vector(-162.79080365132836, -147.01261530553282, 0.0)\n",
      "Vector(-163.76800313678956, -146.93858041096038, 0.0)\n",
      "Vector(-164.7701190190677, -146.8298249123136, 0.0)\n",
      "Vector(-165.79424574962238, -146.67342657548306, 0.0)\n",
      "Vector(-166.836733285379, -146.46055164085692, 0.0)\n",
      "Vector(-167.89625283745679, -146.19619899993026, 0.0)\n",
      "Vector(-168.96577548904068, -145.8637515638611, 0.0)\n"
     ]
    }
   ],
   "source": [
    "prefix = scenic.__file__[:-11]\n",
    "\n",
    "scenario = scenic.scenarioFromFile(prefix + \"gym/examples/newtonian1.scenic\",\n",
    "                                   model=\"scenic.simulators.newtonian_gym.driving_model\",\n",
    "                               mode2D=True)\n",
    "\n",
    "env = ScenicGymEnv(scenario, NewtonianSimulator(), None, max_steps=40) # max_step is max step for an episode\n",
    "env.reset()\n",
    "episode_over = False\n",
    "while not episode_over:\n",
    "    action = env.action_space.sample() # dummy here\n",
    "\n",
    "    observation, reward, terminated, truncated, info = env.step(action)\n",
    "    print(observation[0]['position'])\n",
    "    episode_over = terminated or truncated\n",
    "\n",
    "env.close()"
   ]
  },
  {
   "cell_type": "code",
   "execution_count": 5,
   "id": "4e427ec5",
   "metadata": {},
   "outputs": [
    {
     "ename": "FileNotFoundError",
     "evalue": "/Users/kxu/Scenic/src/scenic/gym/examples/newtonian1.scenic",
     "output_type": "error",
     "traceback": [
      "\u001b[0;31m---------------------------------------------------------------------------\u001b[0m",
      "\u001b[0;31mFileNotFoundError\u001b[0m                         Traceback (most recent call last)",
      "Cell \u001b[0;32mIn [5], line 1\u001b[0m\n\u001b[0;32m----> 1\u001b[0m scenarios \u001b[38;5;241m=\u001b[39m [scenic\u001b[38;5;241m.\u001b[39mscenarioFromFile(\u001b[38;5;124m\"\u001b[39m\u001b[38;5;124m/Users/kxu/Scenic/src/scenic/gym/examples/newtonian1.scenic\u001b[39m\u001b[38;5;124m\"\u001b[39m,\n\u001b[1;32m      2\u001b[0m                                    model\u001b[38;5;241m=\u001b[39m\u001b[38;5;124m\"\u001b[39m\u001b[38;5;124mscenic.simulators.newtonian_gym.driving_model\u001b[39m\u001b[38;5;124m\"\u001b[39m,\n\u001b[1;32m      3\u001b[0m                                mode2D\u001b[38;5;241m=\u001b[39m\u001b[38;5;28;01mTrue\u001b[39;00m) \u001b[38;5;28;01mfor\u001b[39;00m _ \u001b[38;5;129;01min\u001b[39;00m \u001b[38;5;28mrange\u001b[39m(\u001b[38;5;241m10\u001b[39m)]\n\u001b[1;32m      4\u001b[0m simulators \u001b[38;5;241m=\u001b[39m [NewtonianSimulator() \u001b[38;5;28;01mfor\u001b[39;00m _ \u001b[38;5;129;01min\u001b[39;00m \u001b[38;5;28mrange\u001b[39m(\u001b[38;5;241m10\u001b[39m)]\n\u001b[1;32m      5\u001b[0m envs \u001b[38;5;241m=\u001b[39m [ScenicGymEnv(scenarios[i], simulators[i], \u001b[38;5;28;01mNone\u001b[39;00m, max_steps\u001b[38;5;241m=\u001b[39m\u001b[38;5;241m40\u001b[39m) \u001b[38;5;28;01mfor\u001b[39;00m i \u001b[38;5;129;01min\u001b[39;00m \u001b[38;5;28mrange\u001b[39m(\u001b[38;5;241m10\u001b[39m)]\n",
      "Cell \u001b[0;32mIn [5], line 1\u001b[0m, in \u001b[0;36m<listcomp>\u001b[0;34m(.0)\u001b[0m\n\u001b[0;32m----> 1\u001b[0m scenarios \u001b[38;5;241m=\u001b[39m [\u001b[43mscenic\u001b[49m\u001b[38;5;241;43m.\u001b[39;49m\u001b[43mscenarioFromFile\u001b[49m\u001b[43m(\u001b[49m\u001b[38;5;124;43m\"\u001b[39;49m\u001b[38;5;124;43m/Users/kxu/Scenic/src/scenic/gym/examples/newtonian1.scenic\u001b[39;49m\u001b[38;5;124;43m\"\u001b[39;49m\u001b[43m,\u001b[49m\n\u001b[1;32m      2\u001b[0m \u001b[43m                                   \u001b[49m\u001b[43mmodel\u001b[49m\u001b[38;5;241;43m=\u001b[39;49m\u001b[38;5;124;43m\"\u001b[39;49m\u001b[38;5;124;43mscenic.simulators.newtonian_gym.driving_model\u001b[39;49m\u001b[38;5;124;43m\"\u001b[39;49m\u001b[43m,\u001b[49m\n\u001b[1;32m      3\u001b[0m \u001b[43m                               \u001b[49m\u001b[43mmode2D\u001b[49m\u001b[38;5;241;43m=\u001b[39;49m\u001b[38;5;28;43;01mTrue\u001b[39;49;00m\u001b[43m)\u001b[49m \u001b[38;5;28;01mfor\u001b[39;00m _ \u001b[38;5;129;01min\u001b[39;00m \u001b[38;5;28mrange\u001b[39m(\u001b[38;5;241m10\u001b[39m)]\n\u001b[1;32m      4\u001b[0m simulators \u001b[38;5;241m=\u001b[39m [NewtonianSimulator() \u001b[38;5;28;01mfor\u001b[39;00m _ \u001b[38;5;129;01min\u001b[39;00m \u001b[38;5;28mrange\u001b[39m(\u001b[38;5;241m10\u001b[39m)]\n\u001b[1;32m      5\u001b[0m envs \u001b[38;5;241m=\u001b[39m [ScenicGymEnv(scenarios[i], simulators[i], \u001b[38;5;28;01mNone\u001b[39;00m, max_steps\u001b[38;5;241m=\u001b[39m\u001b[38;5;241m40\u001b[39m) \u001b[38;5;28;01mfor\u001b[39;00m i \u001b[38;5;129;01min\u001b[39;00m \u001b[38;5;28mrange\u001b[39m(\u001b[38;5;241m10\u001b[39m)]\n",
      "File \u001b[0;32m~/ScenicGym/src/scenic/syntax/translator.py:131\u001b[0m, in \u001b[0;36mscenarioFromFile\u001b[0;34m(path, params, model, scenario, mode2D, **kwargs)\u001b[0m\n\u001b[1;32m    111\u001b[0m \u001b[38;5;124;03m\"\"\"Compile a Scenic file into a `Scenario`.\u001b[39;00m\n\u001b[1;32m    112\u001b[0m \n\u001b[1;32m    113\u001b[0m \u001b[38;5;124;03mArgs:\u001b[39;00m\n\u001b[0;32m   (...)\u001b[0m\n\u001b[1;32m    128\u001b[0m \u001b[38;5;124;03mSee `_scenarioFromStream` for details.\u001b[39;00m\n\u001b[1;32m    129\u001b[0m \u001b[38;5;124;03m\"\"\"\u001b[39;00m\n\u001b[1;32m    130\u001b[0m \u001b[38;5;28;01mif\u001b[39;00m \u001b[38;5;129;01mnot\u001b[39;00m os\u001b[38;5;241m.\u001b[39mpath\u001b[38;5;241m.\u001b[39mexists(path):\n\u001b[0;32m--> 131\u001b[0m     \u001b[38;5;28;01mraise\u001b[39;00m \u001b[38;5;167;01mFileNotFoundError\u001b[39;00m(path)\n\u001b[1;32m    132\u001b[0m fullpath \u001b[38;5;241m=\u001b[39m os\u001b[38;5;241m.\u001b[39mpath\u001b[38;5;241m.\u001b[39mrealpath(path)\n\u001b[1;32m    133\u001b[0m head, extension \u001b[38;5;241m=\u001b[39m os\u001b[38;5;241m.\u001b[39mpath\u001b[38;5;241m.\u001b[39msplitext(fullpath)\n",
      "\u001b[0;31mFileNotFoundError\u001b[0m: /Users/kxu/Scenic/src/scenic/gym/examples/newtonian1.scenic"
     ]
    }
   ],
   "source": []
  },
  {
   "cell_type": "code",
   "execution_count": null,
   "id": "3c962590",
   "metadata": {},
   "outputs": [],
   "source": []
  }
 ],
 "metadata": {
  "kernelspec": {
   "display_name": "Python 3 (ipykernel)",
   "language": "python",
   "name": "python3"
  },
  "language_info": {
   "codemirror_mode": {
    "name": "ipython",
    "version": 3
   },
   "file_extension": ".py",
   "mimetype": "text/x-python",
   "name": "python",
   "nbconvert_exporter": "python",
   "pygments_lexer": "ipython3",
   "version": "3.10.0"
  }
 },
 "nbformat": 4,
 "nbformat_minor": 5
}
