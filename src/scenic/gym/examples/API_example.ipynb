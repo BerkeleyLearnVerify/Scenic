{
 "cells": [
  {
   "cell_type": "code",
   "execution_count": 2,
   "id": "00c0a66b",
   "metadata": {},
   "outputs": [
    {
     "name": "stderr",
     "output_type": "stream",
     "text": [
      "/Users/kxu/ScenicGym/src/scenic/core/errors.py:271: UserWarning: unable to install sys.excepthook to format Scenic backtraces\n",
      "  warnings.warn(\"unable to install sys.excepthook to format Scenic backtraces\")\n"
     ]
    }
   ],
   "source": [
    "from scenic.gym import ScenicGymEnv\n",
    "import scenic\n",
    "from scenic.simulators.newtonian_gym import NewtonianSimulator\n",
    "import numpy as np\n",
    "import os"
   ]
  },
  {
   "cell_type": "code",
   "execution_count": 3,
   "id": "d31fed22",
   "metadata": {
    "scrolled": false
   },
   "outputs": [
    {
     "name": "stdout",
     "output_type": "stream",
     "text": [
      "[{'position': Vector(172.61252307492964, 148.099967898714, 0.0), 'yaw': 0.0009733700046946072, 'pitch': 0, 'roll': 0, 'velocity': Vector(0.16339921728607187, -0.22737787005401175, 0), 'speed': 0.27999999999999997, 'angularSpeed': 0.009733700046947697, 'angularVelocity': Vector(0, 0, 0), 'elevation': 0.0}, {'position': Vector(182.09128001800977, 117.30370898079396, 0), 'yaw': -3.0801394284639665, 'pitch': 0, 'roll': 0, 'velocity': Vector(0, 0.0, 0), 'speed': 0.0, 'angularSpeed': 0, 'angularVelocity': Vector(0, 0, 0), 'elevation': 0.0}]\n",
      "[{'position': Vector(172.6452471674583, 148.05452415582045, 0.0), 'yaw': 0.009600563476213088, 'pitch': 0, 'roll': 0, 'velocity': Vector(0.3272409252866903, -0.45443742893550343, 0), 'speed': 0.5599999999999999, 'angularSpeed': 0.08627193471518727, 'angularVelocity': Vector(0, 0, 0), 'elevation': 0.0}, {'position': Vector(182.09128001800977, 117.30370898079396, 0), 'yaw': -3.0801394284639665, 'pitch': 0, 'roll': 0, 'velocity': Vector(0, 0.0, 0), 'speed': 0.0, 'angularSpeed': 0, 'angularVelocity': Vector(0, 0, 0), 'elevation': 0.0}]\n",
      "[{'position': Vector(172.6949195502077, 147.98678454855852, 0.0), 'yaw': 0.011254039688144904, 'pitch': 0, 'roll': 0, 'velocity': Vector(0.49672382749387367, -0.6773960726191408, 0), 'speed': 0.8399999999999999, 'angularSpeed': 0.016534762119319094, 'angularVelocity': Vector(0, 0, 0), 'elevation': 0.0}, {'position': Vector(182.09128001800977, 117.30370898079396, 0), 'yaw': -3.0801394284639665, 'pitch': 0, 'roll': 0, 'velocity': Vector(0, 0.0, 0), 'speed': 0.0, 'angularSpeed': 0, 'angularVelocity': Vector(0, 0, 0), 'elevation': 0.0}]\n",
      "[{'position': Vector(172.76129864437547, 147.89657470509638, 0.0), 'yaw': 0.013467717644167923, 'pitch': 0, 'roll': 0, 'velocity': Vector(0.6637909416778602, -0.9020984346214217, 0), 'speed': 1.1199999999999999, 'angularSpeed': 0.022136779560231568, 'angularVelocity': Vector(0, 0, 0), 'elevation': 0.0}, {'position': Vector(182.09128001800977, 117.30370898079396, 0), 'yaw': -3.0801394284639665, 'pitch': 0, 'roll': 0, 'velocity': Vector(0, 0.0, 0), 'speed': 0.0, 'angularSpeed': 0, 'angularVelocity': Vector(0, 0, 0), 'elevation': 0.0}]\n",
      "[{'position': Vector(172.84452192800745, 147.78399635432896, 0.0), 'yaw': 0.016258287501866857, 'pitch': 0, 'roll': 0, 'velocity': Vector(0.8322328363197498, -1.1257835076741818, 0), 'speed': 1.4, 'angularSpeed': 0.02790569857699079, 'angularVelocity': Vector(0, 0, 0), 'elevation': 0.0}, {'position': Vector(182.09128001800977, 117.30370898079396, 0), 'yaw': -3.0801394284639665, 'pitch': 0, 'roll': 0, 'velocity': Vector(0, 0.0, 0), 'speed': 0.0, 'angularSpeed': 0, 'angularVelocity': Vector(0, 0, 0), 'elevation': 0.0}]\n",
      "[{'position': Vector(172.9447664683297, 147.64918154751763, 0.0), 'yaw': 0.01962127843797131, 'pitch': 0, 'roll': 0, 'velocity': Vector(1.00244540322259, -1.3481480681134022, 0), 'speed': 1.68, 'angularSpeed': 0.03362990936104472, 'angularVelocity': Vector(0, 0, 0), 'elevation': 0.0}, {'position': Vector(182.09128001800977, 117.30370898079396, 0), 'yaw': -3.0801394284639665, 'pitch': 0, 'roll': 0, 'velocity': Vector(0, 0.0, 0), 'speed': 0.0, 'angularSpeed': 0, 'angularVelocity': Vector(0, 0, 0), 'elevation': 0.0}]\n",
      "[{'position': Vector(173.06224671416524, 147.49229180330715, 0.0), 'yaw': 0.023540274955598347, 'pitch': 0, 'roll': 0, 'velocity': Vector(1.174802458355286, -1.5688974421046062, 0), 'speed': 1.96, 'angularSpeed': 0.03918996517627006, 'angularVelocity': Vector(0, 0, 0), 'elevation': 0.0}, {'position': Vector(182.09128001800977, 117.30370898079396, 0), 'yaw': -3.0801394284639665, 'pitch': 0, 'roll': 0, 'velocity': Vector(0, 0.0, 0), 'speed': 0.0, 'angularSpeed': 0, 'angularVelocity': Vector(0, 0, 0), 'elevation': 0.0}]\n",
      "[{'position': Vector(173.19721150555023, 147.31351679082945, 0.0), 'yaw': 0.027983814666227715, 'pitch': 0, 'roll': 0, 'velocity': Vector(1.3496479138499695, -1.7877501247770686, 0), 'speed': 2.2399999999999998, 'angularSpeed': 0.044435397106292844, 'angularVelocity': Vector(0, 0, 0), 'elevation': 0.0}, {'position': Vector(182.09128001800977, 117.30370898079396, 0), 'yaw': -3.0801394284639665, 'pitch': 0, 'roll': 0, 'velocity': Vector(0, 0.0, 0), 'speed': 0.0, 'angularSpeed': 0, 'angularVelocity': Vector(0, 0, 0), 'elevation': 0.0}]\n",
      "[{'position': Vector(173.3499390870221, 147.1130715717352, 0.0), 'yaw': 0.03290223445313112, 'pitch': 0, 'roll': 0, 'velocity': Vector(1.5272758147188448, -2.0044521909426742, 0), 'speed': 2.5199999999999996, 'angularSpeed': 0.04918419786903249, 'angularVelocity': Vector(0, 0, 0), 'elevation': 0.0}, {'position': Vector(182.09128001800977, 117.30370898079396, 0), 'yaw': -3.0801394284639665, 'pitch': 0, 'roll': 0, 'velocity': Vector(0, 0.0, 0), 'speed': 0.0, 'angularSpeed': 0, 'angularVelocity': Vector(0, 0, 0), 'elevation': 0.0}]\n",
      "[{'position': Vector(173.52072975805243, 146.89119199473674, 0.0), 'yaw': 0.038224705298466846, 'pitch': 0, 'roll': 0, 'velocity': Vector(1.7079067103032302, -2.218795769984519, 0), 'speed': 2.7999999999999994, 'angularSpeed': 0.05322470845335589, 'angularVelocity': Vector(0, 0, 0), 'elevation': 0.0}, {'position': Vector(182.09128001800977, 117.30370898079396, 0), 'yaw': -3.0801394284639665, 'pitch': 0, 'roll': 0, 'velocity': Vector(0, 0.0, 0), 'speed': 0.0, 'angularSpeed': 0, 'angularVelocity': Vector(0, 0, 0), 'elevation': 0.0}]\n",
      "[{'position': Vector(173.7098958713441, 146.6481278435706, 0.0), 'yaw': 0.04385671712432121, 'pitch': 0, 'roll': 0, 'velocity': Vector(1.8916611329166795, -2.430641511661557, 0), 'speed': 3.079999999999999, 'angularSpeed': 0.05632011825854172, 'angularVelocity': Vector(0, 0, 0), 'elevation': 0.0}, {'position': Vector(182.09128001800977, 117.30370898079396, 0), 'yaw': -3.0801394284639665, 'pitch': 0, 'roll': 0, 'velocity': Vector(0, 0.0, 0), 'speed': 0.0, 'angularSpeed': 0, 'angularVelocity': Vector(0, 0, 0), 'elevation': 0.0}]\n",
      "[{'position': Vector(173.91774901254814, 146.38413338966745, 0.0), 'yaw': 0.049661962568527035, 'pitch': 0, 'roll': 0, 'velocity': Vector(2.0785314120405087, -2.639944539031243, 0), 'speed': 3.359999999999999, 'angularSpeed': 0.058052454442059996, 'angularVelocity': Vector(0, 0, 0), 'elevation': 0.0}, {'position': Vector(182.09128001800977, 117.30370898079396, 0), 'yaw': -3.0801394284639665, 'pitch': 0, 'roll': 0, 'velocity': Vector(0, 0.0, 0), 'speed': 0.0, 'angularSpeed': 0, 'angularVelocity': Vector(0, 0, 0), 'elevation': 0.0}]\n",
      "[{'position': Vector(174.144579710571, 146.0994514014166, 0.0), 'yaw': 0.05167443993697819, 'pitch': 0, 'roll': 0, 'velocity': Vector(2.268306980228546, -2.8468198825086293, 0), 'speed': 3.639999999999999, 'angularSpeed': 0.020124773684509236, 'angularVelocity': Vector(0, 0, 0), 'elevation': 0.0}, {'position': Vector(182.09128001800977, 117.30370898079396, 0), 'yaw': -3.0801394284639665, 'pitch': 0, 'roll': 0, 'velocity': Vector(0, 0.0, 0), 'speed': 0.0, 'angularSpeed': 0, 'angularVelocity': Vector(0, 0, 0), 'elevation': 0.0}]\n",
      "[{'position': Vector(174.38947541526133, 145.7933630255768, 0.0), 'yaw': 0.05252713362227546, 'pitch': 0, 'roll': 0, 'velocity': Vector(2.4489570469031468, -3.060883758397795, 0), 'speed': 3.9199999999999986, 'angularSpeed': 0.008526936852971288, 'angularVelocity': Vector(0, 0, 0), 'elevation': 0.0}, {'position': Vector(182.09128001800977, 117.30370898079396, 0), 'yaw': -3.0801394284639665, 'pitch': 0, 'roll': 0, 'velocity': Vector(0, 0.0, 0), 'speed': 0.0, 'angularSpeed': 0, 'angularVelocity': Vector(0, 0, 0), 'elevation': 0.0}]\n",
      "[{'position': Vector(174.6521432173189, 145.46563505032563, 0.0), 'yaw': 0.0521201676852653, 'pitch': 0, 'roll': 0, 'velocity': Vector(2.626678020575683, -3.277279752511922, 0), 'speed': 4.199999999999999, 'angularSpeed': -0.004069659370101457, 'angularVelocity': Vector(0, 0, 0), 'elevation': 0.0}, {'position': Vector(182.09128001800977, 117.30370898079396, 0), 'yaw': -3.0801394284639665, 'pitch': 0, 'roll': 0, 'velocity': Vector(0, 0.0, 0), 'speed': 0.0, 'angularSpeed': 0, 'angularVelocity': Vector(0, 0, 0), 'elevation': 0.0}]\n",
      "[{'position': Vector(174.93217991725172, 145.1159445490381, 0.0), 'yaw': 0.05025391743651178, 'pitch': 0, 'roll': 0, 'velocity': Vector(2.8003669993283156, -3.4969050128753736, 0), 'speed': 4.4799999999999995, 'angularSpeed': -0.01866250248753502, 'angularVelocity': Vector(0, 0, 0), 'elevation': 0.0}, {'position': Vector(182.09128001800977, 117.30370898079396, 0), 'yaw': -3.0801394284639665, 'pitch': 0, 'roll': 0, 'velocity': Vector(0, 0.0, 0), 'speed': 0.0, 'angularSpeed': 0, 'angularVelocity': Vector(0, 0, 0), 'elevation': 0.0}]\n",
      "[{'position': Vector(175.22902499507614, 144.74384375654844, 0.0), 'yaw': 0.04675535314771739, 'pitch': 0, 'roll': 0, 'velocity': Vector(2.968450778244193, -3.7210079248963495, 0), 'speed': 4.759999999999999, 'angularSpeed': -0.03498564288794473, 'angularVelocity': Vector(0, 0, 0), 'elevation': 0.0}, {'position': Vector(182.09128001800977, 117.30370898079396, 0), 'yaw': -3.0801394284639665, 'pitch': 0, 'roll': 0, 'velocity': Vector(0, 0.0, 0), 'speed': 0.0, 'angularSpeed': 0, 'angularVelocity': Vector(0, 0, 0), 'elevation': 0.0}]\n",
      "[{'position': Vector(175.54195123122614, 144.34875747391007, 0.0), 'yaw': 0.041499307329941004, 'pitch': 0, 'roll': 0, 'velocity': Vector(3.129262361499912, -3.9508628263836223, 0), 'speed': 5.039999999999999, 'angularSpeed': -0.052560458177761775, 'angularVelocity': Vector(0, 0, 0), 'elevation': 0.0}, {'position': Vector(182.09128001800977, 117.30370898079396, 0), 'yaw': -3.0801394284639665, 'pitch': 0, 'roll': 0, 'velocity': Vector(0, 0.0, 0), 'speed': 0.0, 'angularSpeed': 0, 'angularVelocity': Vector(0, 0, 0), 'elevation': 0.0}]\n",
      "[{'position': Vector(175.8700657479835, 143.92999159195085, 0.0), 'yaw': 0.03442466830257501, 'pitch': 0, 'roll': 0, 'velocity': Vector(3.2811451675736607, -4.18765881959216, 0), 'speed': 5.319999999999999, 'angularSpeed': -0.07074639027365819, 'angularVelocity': Vector(0, 0, 0), 'elevation': 0.0}, {'position': Vector(182.09128001800977, 117.30370898079396, 0), 'yaw': -3.0801394284639665, 'pitch': 0, 'roll': 0, 'velocity': Vector(0, 0.0, 0), 'speed': 0.0, 'angularSpeed': 0, 'angularVelocity': Vector(0, 0, 0), 'elevation': 0.0}]\n",
      "[{'position': Vector(176.21232228788082, 143.486752987024, 0.0), 'yaw': 0.02554912263475374, 'pitch': 0, 'roll': 0, 'velocity': Vector(3.4225653989734406, -4.432386049268471, 0), 'speed': 5.6, 'angularSpeed': -0.0887554566782129, 'angularVelocity': Vector(0, 0, 0), 'elevation': 0.0}, {'position': Vector(182.09128001800977, 117.30370898079396, 0), 'yaw': -3.0801394284639665, 'pitch': 0, 'roll': 0, 'velocity': Vector(0, 0.0, 0), 'speed': 0.0, 'angularSpeed': 0, 'angularVelocity': Vector(0, 0, 0), 'elevation': 0.0}]\n",
      "[{'position': Vector(176.56754687067783, 143.01818122541573, 0.0), 'yaw': 0.014981120437533788, 'pitch': 0, 'roll': 0, 'velocity': Vector(3.552245827970056, -4.6857176160828695, 0), 'speed': 5.88, 'angularSpeed': -0.10568002197219817, 'angularVelocity': Vector(0, 0, 0), 'elevation': 0.0}, {'position': Vector(182.09128001800977, 117.30370898079396, 0), 'yaw': -3.0801394284639665, 'pitch': 0, 'roll': 0, 'velocity': Vector(0, 0.0, 0), 'speed': 0.0, 'angularSpeed': 0, 'angularVelocity': Vector(0, 0, 0), 'elevation': 0.0}]\n",
      "[{'position': Vector(176.9344785551408, 142.5233912306329, 0.0), 'yaw': 0.002927308766839349, 'pitch': 0, 'roll': 0, 'velocity': Vector(3.66931684462963, -4.947899947828095, 0), 'speed': 6.16, 'angularSpeed': -0.12053811670694667, 'angularVelocity': Vector(0, 0, 0), 'elevation': 0.0}, {'position': Vector(182.09128001800977, 117.30370898079396, 0), 'yaw': -3.0801394284639665, 'pitch': 0, 'roll': 0, 'velocity': Vector(0, 0.0, 0), 'speed': 0.0, 'angularSpeed': 0, 'angularVelocity': Vector(0, 0, 0), 'elevation': 0.0}]\n",
      "[{'position': Vector(177.31182603452928, 142.0015245045436, 0.0), 'yaw': -0.010306357755425662, 'pitch': 0, 'roll': 0, 'velocity': Vector(3.7734747938847097, -5.218667260893029, 0), 'speed': 6.44, 'angularSpeed': -0.13233666522264842, 'angularVelocity': Vector(0, 0, 0), 'elevation': 0.0}, {'position': Vector(182.09128001800977, 117.30370898079396, 0), 'yaw': -3.0801394284639665, 'pitch': 0, 'roll': 0, 'velocity': Vector(0, 0.0, 0), 'speed': 0.0, 'angularSpeed': 0, 'angularVelocity': Vector(0, 0, 0), 'elevation': 0.0}]\n",
      "[{'position': Vector(177.69833917763404, 141.45180494858138, 0.0), 'yaw': -0.024321443547583504, 'pitch': 0, 'roll': 0, 'velocity': Vector(3.8651314310475984, -5.4971955596220115, 0), 'speed': 6.720000000000001, 'angularSpeed': -0.1401508579215791, 'angularVelocity': Vector(0, 0, 0), 'elevation': 0.0}, {'position': Vector(182.09128001800977, 117.30370898079396, 0), 'yaw': -3.0801394284639665, 'pitch': 0, 'roll': 0, 'velocity': Vector(0, 0.0, 0), 'speed': 0.0, 'angularSpeed': 0, 'angularVelocity': Vector(0, 0, 0), 'elevation': 0.0}]\n",
      "[{'position': Vector(178.0928923747589, 140.8735941093207, 0.0), 'yaw': -0.038642978242739184, 'pitch': 0, 'roll': 0, 'velocity': Vector(3.945531971248445, -5.7821083926070065, 0), 'speed': 7.000000000000002, 'angularSpeed': -0.1432153469515538, 'angularVelocity': Vector(0, 0, 0), 'elevation': 0.0}, {'position': Vector(182.09128001800977, 117.30370898079396, 0), 'yaw': -3.0801394284639665, 'pitch': 0, 'roll': 0, 'velocity': Vector(0, 0.0, 0), 'speed': 0.0, 'angularSpeed': 0, 'angularVelocity': Vector(0, 0, 0), 'elevation': 0.0}]\n",
      "[{'position': Vector(178.49457381243337, 140.26644007398224, 0.0), 'yaw': -0.05274496040107699, 'pitch': 0, 'roll': 0, 'velocity': Vector(4.016814376744844, -6.071540353384466, 0), 'speed': 7.280000000000002, 'angularSpeed': -0.14101982158337806, 'angularVelocity': Vector(0, 0, 0), 'elevation': 0.0}, {'position': Vector(182.09128001800977, 117.30370898079396, 0), 'yaw': -3.0801394284639665, 'pitch': 0, 'roll': 0, 'velocity': Vector(0, 0.0, 0), 'speed': 0.0, 'angularSpeed': 0, 'angularVelocity': Vector(0, 0, 0), 'elevation': 0.0}]\n",
      "[{'position': Vector(178.90277196905203, 139.63011447734704, 0.0), 'yaw': -0.08129342377392533, 'pitch': 0, 'roll': 0, 'velocity': Vector(4.081981566186572, -6.363255966351901, 0), 'speed': 7.560000000000003, 'angularSpeed': -0.28548463372848376, 'angularVelocity': Vector(0, 0, 0), 'elevation': 0.0}, {'position': Vector(182.09128001800977, 117.30370898079396, 0), 'yaw': -3.0801394284639665, 'pitch': 0, 'roll': 0, 'velocity': Vector(0, 0.0, 0), 'speed': 0.0, 'angularSpeed': 0, 'angularVelocity': Vector(0, 0, 0), 'elevation': 0.0}]\n",
      "[{'position': Vector(179.30707970471425, 138.95840676197994, 0.0), 'yaw': -0.11338692486290648, 'pitch': 0, 'roll': 0, 'velocity': Vector(4.043077356622383, -6.717077153670888, 0), 'speed': 7.840000000000003, 'angularSpeed': -0.3209350108898117, 'angularVelocity': Vector(0, 0, 0), 'elevation': 0.0}, {'position': Vector(182.09128001800977, 117.30370898079396, 0), 'yaw': -3.0801394284639665, 'pitch': 0, 'roll': 0, 'velocity': Vector(0, 0.0, 0), 'speed': 0.0, 'angularSpeed': 0, 'angularVelocity': Vector(0, 0, 0), 'elevation': 0.0}]\n",
      "[{'position': Vector(179.703287838855, 138.24963097624746, 0.0), 'yaw': -0.14339771193733725, 'pitch': 0, 'roll': 0, 'velocity': Vector(3.962081341407395, -7.08775785732494, 0), 'speed': 8.120000000000003, 'angularSpeed': -0.300107870744309, 'angularVelocity': Vector(0, 0, 0), 'elevation': 0.0}, {'position': Vector(182.09128001800977, 117.30370898079396, 0), 'yaw': -3.0801394284639665, 'pitch': 0, 'roll': 0, 'velocity': Vector(0, 0.0, 0), 'speed': 0.0, 'angularSpeed': 0, 'angularVelocity': Vector(0, 0, 0), 'elevation': 0.0}]\n",
      "[{'position': Vector(180.09097266564495, 137.5044461165805, 0.0), 'yaw': -0.16911815111527995, 'pitch': 0, 'roll': 0, 'velocity': Vector(3.8768482678994416, -7.451848596669496, 0), 'speed': 8.400000000000002, 'angularSpeed': -0.25720439177942467, 'angularVelocity': Vector(0, 0, 0), 'elevation': 0.0}, {'position': Vector(182.09128001800977, 117.30370898079396, 0), 'yaw': -3.0801394284639665, 'pitch': 0, 'roll': 0, 'velocity': Vector(0, 0.0, 0), 'speed': 0.0, 'angularSpeed': 0, 'angularVelocity': Vector(0, 0, 0), 'elevation': 0.0}]\n",
      "[{'position': Vector(180.4716446371235, 136.72437378010738, 0.0), 'yaw': -0.18943949133099114, 'pitch': 0, 'roll': 0, 'velocity': Vector(3.8067197147853027, -7.800723364731308, 0), 'speed': 8.680000000000001, 'angularSpeed': -0.2032134021571139, 'angularVelocity': Vector(0, 0, 0), 'elevation': 0.0}, {'position': Vector(182.09128001800977, 117.30370898079396, 0), 'yaw': -3.0801394284639665, 'pitch': 0, 'roll': 0, 'velocity': Vector(0, 0.0, 0), 'speed': 0.0, 'angularSpeed': 0, 'angularVelocity': Vector(0, 0, 0), 'elevation': 0.0}]\n",
      "[{'position': Vector(180.8481528686651, 135.91131932216413, 0.0), 'yaw': -0.2038879361674115, 'pitch': 0, 'roll': 0, 'velocity': Vector(3.765082315416068, -8.130544579432623, 0), 'speed': 8.96, 'angularSpeed': -0.14448444836420335, 'angularVelocity': Vector(0, 0, 0), 'elevation': 0.0}, {'position': Vector(182.09128001800977, 117.30370898079396, 0), 'yaw': -3.0801394284639665, 'pitch': 0, 'roll': 0, 'velocity': Vector(0, 0.0, 0), 'speed': 0.0, 'angularSpeed': 0, 'angularVelocity': Vector(0, 0, 0), 'elevation': 0.0}]\n",
      "[{'position': Vector(181.22427239918846, 135.06733466664076, 0.0), 'yaw': -0.2125292572172967, 'pitch': 0, 'roll': 0, 'velocity': Vector(3.7611953052335774, -8.439846555233627, 0), 'speed': 9.240000000000002, 'angularSpeed': -0.08641321049885284, 'angularVelocity': Vector(0, 0, 0), 'elevation': 0.0}, {'position': Vector(182.09128001800977, 117.30370898079396, 0), 'yaw': -3.0801394284639665, 'pitch': 0, 'roll': 0, 'velocity': Vector(0, 0.0, 0), 'speed': 0.0, 'angularSpeed': 0, 'angularVelocity': Vector(0, 0, 0), 'elevation': 0.0}]\n",
      "[{'position': Vector(181.60426096974396, 134.1944585664712, 0.0), 'yaw': -0.21591177676811044, 'pitch': 0, 'roll': 0, 'velocity': Vector(3.79988570555501, -8.728761001695414, 0), 'speed': 9.520000000000001, 'angularSpeed': -0.033825195508135654, 'angularVelocity': Vector(0, 0, 0), 'elevation': 0.0}, {'position': Vector(182.09128001800977, 117.30370898079396, 0), 'yaw': -3.0801394284639665, 'pitch': 0, 'roll': 0, 'velocity': Vector(0, 0.0, 0), 'speed': 0.0, 'angularSpeed': 0, 'angularVelocity': Vector(0, 0, 0), 'elevation': 0.0}]\n",
      "[{'position': Vector(181.99238408347026, 133.2945916604282, 0.0), 'yaw': -0.2188887193828091, 'pitch': 0, 'roll': 0, 'velocity': Vector(3.8812311372630823, -8.998669060429966, 0), 'speed': 9.8, 'angularSpeed': -0.029769426146984468, 'angularVelocity': Vector(0, 0, 0), 'elevation': 0.0}, {'position': Vector(182.09128001800977, 117.30370898079396, 0), 'yaw': -3.0801394284639665, 'pitch': 0, 'roll': 0, 'velocity': Vector(0, 0.0, 0), 'speed': 0.0, 'angularSpeed': 0, 'angularVelocity': Vector(0, 0, 0), 'elevation': 0.0}]\n",
      "[{'position': Vector(182.3888392733684, 132.36782994218407, 0.0), 'yaw': -0.24638542198001898, 'pitch': 0, 'roll': 0, 'velocity': Vector(3.964551898981348, -9.267617182441416, 0), 'speed': 10.08, 'angularSpeed': -0.27496702597209954, 'angularVelocity': Vector(0, 0, 0), 'elevation': 0.0}, {'position': Vector(182.09128001800977, 117.30370898079396, 0), 'yaw': -3.0801394284639665, 'pitch': 0, 'roll': 0, 'velocity': Vector(0, 0.0, 0), 'speed': 0.0, 'angularSpeed': 0, 'angularVelocity': Vector(0, 0, 0), 'elevation': 0.0}]\n",
      "[{'position': Vector(182.76996563107835, 131.40448228974557, 0.0), 'yaw': -0.2752856268932282, 'pitch': 0, 'roll': 0, 'velocity': Vector(3.8112635770995555, -9.633476524384864, 0), 'speed': 10.36, 'angularSpeed': -0.28900204913209204, 'angularVelocity': Vector(0, 0, 0), 'elevation': 0.0}, {'position': Vector(182.09128001800977, 117.30370898079396, 0), 'yaw': -3.0801394284639665, 'pitch': 0, 'roll': 0, 'velocity': Vector(0, 0.0, 0), 'speed': 0.0, 'angularSpeed': 0, 'angularVelocity': Vector(0, 0, 0), 'elevation': 0.0}]\n",
      "[{'position': Vector(183.13263982593665, 130.40420061522389, 0.0), 'yaw': -0.2951600074418739, 'pitch': 0, 'roll': 0, 'velocity': Vector(3.626741948582976, -10.002816745216746, 0), 'speed': 10.639999999999999, 'angularSpeed': -0.19874380548645842, 'angularVelocity': Vector(0, 0, 0), 'elevation': 0.0}, {'position': Vector(182.08381595470397, 117.33069578792201, 0.0), 'yaw': -3.0791660584592715, 'pitch': 0, 'roll': 0, 'velocity': Vector(-0.07464063305792143, 0.26986807128060314, 0), 'speed': 0.27999999999999997, 'angularSpeed': 0.009733700046947697, 'angularVelocity': Vector(0, 0, 0), 'elevation': 0.0}]\n",
      "[{'position': Vector(183.48438277670473, 129.37040136170077, 0.0), 'yaw': -0.3031080444016467, 'pitch': 0, 'roll': 0, 'velocity': Vector(3.5174295076808733, -10.337992535231193, 0), 'speed': 10.919999999999998, 'angularSpeed': -0.07948036959772674, 'angularVelocity': Vector(0, 0, 0), 'elevation': 0.0}, {'position': Vector(182.06883529887534, 117.38465484602114, 0.0), 'yaw': -3.06733068847871, 'pitch': 0, 'roll': 0, 'velocity': Vector(-0.1498065582863024, 0.5395905809911924, 0), 'speed': 0.5599999999999999, 'angularSpeed': 0.11835369980561909, 'angularVelocity': Vector(0, 0, 0), 'elevation': 0.0}]\n",
      "[{'position': Vector(183.8367061127373, 128.30726060578607, 0.0), 'yaw': -0.30077476945515397, 'pitch': 0, 'roll': 0, 'velocity': Vector(3.5232333603254453, -10.631407559147087, 0), 'speed': 11.199999999999998, 'angularSpeed': 0.02333274946492643, 'angularVelocity': Vector(0, 0, 0), 'elevation': 0.0}, {'position': Vector(182.04540797317586, 117.46532181826238, 0.0), 'yaw': -3.0548375331256774, 'pitch': 0, 'roll': 0, 'velocity': Vector(-0.2342732569949742, 0.8066697224124422, 0), 'speed': 0.8399999999999999, 'angularSpeed': 0.12493155353032286, 'angularVelocity': Vector(0, 0, 0), 'elevation': 0.0}]\n"
     ]
    }
   ],
   "source": [
    "prefix = scenic.__file__[:-11]\n",
    "\n",
    "scenario = scenic.scenarioFromFile(prefix + \"gym/examples/newtonian1.scenic\",\n",
    "                                   model=\"scenic.simulators.newtonian_gym.driving_model\",\n",
    "                               mode2D=True)\n",
    "\n",
    "env = ScenicGymEnv(scenario, NewtonianSimulator(), None, max_steps=40) # max_step is max step for an episode\n",
    "env.reset()\n",
    "episode_over = False\n",
    "while not episode_over:\n",
    "    action = env.action_space.sample() # dummy here\n",
    "\n",
    "    observation, reward, terminated, truncated, info = env.step(action)\n",
    "    print(observation)\n",
    "    episode_over = terminated or truncated\n",
    "\n",
    "env.close()"
   ]
  },
  {
   "cell_type": "code",
   "execution_count": 5,
   "id": "4e427ec5",
   "metadata": {},
   "outputs": [
    {
     "ename": "FileNotFoundError",
     "evalue": "/Users/kxu/Scenic/src/scenic/gym/examples/newtonian1.scenic",
     "output_type": "error",
     "traceback": [
      "\u001b[0;31m---------------------------------------------------------------------------\u001b[0m",
      "\u001b[0;31mFileNotFoundError\u001b[0m                         Traceback (most recent call last)",
      "Cell \u001b[0;32mIn [5], line 1\u001b[0m\n\u001b[0;32m----> 1\u001b[0m scenarios \u001b[38;5;241m=\u001b[39m [scenic\u001b[38;5;241m.\u001b[39mscenarioFromFile(\u001b[38;5;124m\"\u001b[39m\u001b[38;5;124m/Users/kxu/Scenic/src/scenic/gym/examples/newtonian1.scenic\u001b[39m\u001b[38;5;124m\"\u001b[39m,\n\u001b[1;32m      2\u001b[0m                                    model\u001b[38;5;241m=\u001b[39m\u001b[38;5;124m\"\u001b[39m\u001b[38;5;124mscenic.simulators.newtonian_gym.driving_model\u001b[39m\u001b[38;5;124m\"\u001b[39m,\n\u001b[1;32m      3\u001b[0m                                mode2D\u001b[38;5;241m=\u001b[39m\u001b[38;5;28;01mTrue\u001b[39;00m) \u001b[38;5;28;01mfor\u001b[39;00m _ \u001b[38;5;129;01min\u001b[39;00m \u001b[38;5;28mrange\u001b[39m(\u001b[38;5;241m10\u001b[39m)]\n\u001b[1;32m      4\u001b[0m simulators \u001b[38;5;241m=\u001b[39m [NewtonianSimulator() \u001b[38;5;28;01mfor\u001b[39;00m _ \u001b[38;5;129;01min\u001b[39;00m \u001b[38;5;28mrange\u001b[39m(\u001b[38;5;241m10\u001b[39m)]\n\u001b[1;32m      5\u001b[0m envs \u001b[38;5;241m=\u001b[39m [ScenicGymEnv(scenarios[i], simulators[i], \u001b[38;5;28;01mNone\u001b[39;00m, max_steps\u001b[38;5;241m=\u001b[39m\u001b[38;5;241m40\u001b[39m) \u001b[38;5;28;01mfor\u001b[39;00m i \u001b[38;5;129;01min\u001b[39;00m \u001b[38;5;28mrange\u001b[39m(\u001b[38;5;241m10\u001b[39m)]\n",
      "Cell \u001b[0;32mIn [5], line 1\u001b[0m, in \u001b[0;36m<listcomp>\u001b[0;34m(.0)\u001b[0m\n\u001b[0;32m----> 1\u001b[0m scenarios \u001b[38;5;241m=\u001b[39m [\u001b[43mscenic\u001b[49m\u001b[38;5;241;43m.\u001b[39;49m\u001b[43mscenarioFromFile\u001b[49m\u001b[43m(\u001b[49m\u001b[38;5;124;43m\"\u001b[39;49m\u001b[38;5;124;43m/Users/kxu/Scenic/src/scenic/gym/examples/newtonian1.scenic\u001b[39;49m\u001b[38;5;124;43m\"\u001b[39;49m\u001b[43m,\u001b[49m\n\u001b[1;32m      2\u001b[0m \u001b[43m                                   \u001b[49m\u001b[43mmodel\u001b[49m\u001b[38;5;241;43m=\u001b[39;49m\u001b[38;5;124;43m\"\u001b[39;49m\u001b[38;5;124;43mscenic.simulators.newtonian_gym.driving_model\u001b[39;49m\u001b[38;5;124;43m\"\u001b[39;49m\u001b[43m,\u001b[49m\n\u001b[1;32m      3\u001b[0m \u001b[43m                               \u001b[49m\u001b[43mmode2D\u001b[49m\u001b[38;5;241;43m=\u001b[39;49m\u001b[38;5;28;43;01mTrue\u001b[39;49;00m\u001b[43m)\u001b[49m \u001b[38;5;28;01mfor\u001b[39;00m _ \u001b[38;5;129;01min\u001b[39;00m \u001b[38;5;28mrange\u001b[39m(\u001b[38;5;241m10\u001b[39m)]\n\u001b[1;32m      4\u001b[0m simulators \u001b[38;5;241m=\u001b[39m [NewtonianSimulator() \u001b[38;5;28;01mfor\u001b[39;00m _ \u001b[38;5;129;01min\u001b[39;00m \u001b[38;5;28mrange\u001b[39m(\u001b[38;5;241m10\u001b[39m)]\n\u001b[1;32m      5\u001b[0m envs \u001b[38;5;241m=\u001b[39m [ScenicGymEnv(scenarios[i], simulators[i], \u001b[38;5;28;01mNone\u001b[39;00m, max_steps\u001b[38;5;241m=\u001b[39m\u001b[38;5;241m40\u001b[39m) \u001b[38;5;28;01mfor\u001b[39;00m i \u001b[38;5;129;01min\u001b[39;00m \u001b[38;5;28mrange\u001b[39m(\u001b[38;5;241m10\u001b[39m)]\n",
      "File \u001b[0;32m~/ScenicGym/src/scenic/syntax/translator.py:131\u001b[0m, in \u001b[0;36mscenarioFromFile\u001b[0;34m(path, params, model, scenario, mode2D, **kwargs)\u001b[0m\n\u001b[1;32m    111\u001b[0m \u001b[38;5;124;03m\"\"\"Compile a Scenic file into a `Scenario`.\u001b[39;00m\n\u001b[1;32m    112\u001b[0m \n\u001b[1;32m    113\u001b[0m \u001b[38;5;124;03mArgs:\u001b[39;00m\n\u001b[0;32m   (...)\u001b[0m\n\u001b[1;32m    128\u001b[0m \u001b[38;5;124;03mSee `_scenarioFromStream` for details.\u001b[39;00m\n\u001b[1;32m    129\u001b[0m \u001b[38;5;124;03m\"\"\"\u001b[39;00m\n\u001b[1;32m    130\u001b[0m \u001b[38;5;28;01mif\u001b[39;00m \u001b[38;5;129;01mnot\u001b[39;00m os\u001b[38;5;241m.\u001b[39mpath\u001b[38;5;241m.\u001b[39mexists(path):\n\u001b[0;32m--> 131\u001b[0m     \u001b[38;5;28;01mraise\u001b[39;00m \u001b[38;5;167;01mFileNotFoundError\u001b[39;00m(path)\n\u001b[1;32m    132\u001b[0m fullpath \u001b[38;5;241m=\u001b[39m os\u001b[38;5;241m.\u001b[39mpath\u001b[38;5;241m.\u001b[39mrealpath(path)\n\u001b[1;32m    133\u001b[0m head, extension \u001b[38;5;241m=\u001b[39m os\u001b[38;5;241m.\u001b[39mpath\u001b[38;5;241m.\u001b[39msplitext(fullpath)\n",
      "\u001b[0;31mFileNotFoundError\u001b[0m: /Users/kxu/Scenic/src/scenic/gym/examples/newtonian1.scenic"
     ]
    }
   ],
   "source": []
  },
  {
   "cell_type": "code",
   "execution_count": null,
   "id": "3c962590",
   "metadata": {},
   "outputs": [],
   "source": []
  }
 ],
 "metadata": {
  "kernelspec": {
   "display_name": "Python 3 (ipykernel)",
   "language": "python",
   "name": "python3"
  },
  "language_info": {
   "codemirror_mode": {
    "name": "ipython",
    "version": 3
   },
   "file_extension": ".py",
   "mimetype": "text/x-python",
   "name": "python",
   "nbconvert_exporter": "python",
   "pygments_lexer": "ipython3",
   "version": "3.10.0"
  }
 },
 "nbformat": 4,
 "nbformat_minor": 5
}
