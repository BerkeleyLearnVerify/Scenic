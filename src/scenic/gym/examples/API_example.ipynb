{
 "cells": [
  {
   "cell_type": "code",
   "execution_count": 1,
   "id": "00c0a66b",
   "metadata": {},
   "outputs": [
    {
     "name": "stderr",
     "output_type": "stream",
     "text": [
      "/Users/kxu/Scenic/src/scenic/core/errors.py:271: UserWarning: unable to install sys.excepthook to format Scenic backtraces\n",
      "  warnings.warn(\"unable to install sys.excepthook to format Scenic backtraces\")\n"
     ]
    }
   ],
   "source": [
    "from scenic.gym import ScenicGymEnv\n",
    "import scenic\n",
    "from scenic.simulators.newtonian_gym import NewtonianSimulator\n",
    "import numpy as np"
   ]
  },
  {
   "cell_type": "code",
   "execution_count": 2,
   "id": "d31fed22",
   "metadata": {},
   "outputs": [
    {
     "name": "stdout",
     "output_type": "stream",
     "text": [
      "Vector(-242.58441846438373, 116.77275803372048, 0.0)\n",
      "Vector(-242.59515631549118, 116.71779715168977, 0.0)\n",
      "Vector(-242.61161079369774, 116.63542452184859, 0.0)\n",
      "Vector(-242.63364904785948, 116.52561416098268, 0.0)\n",
      "Vector(-242.6613625771627, 116.38838457126691, 0.0)\n",
      "Vector(-242.69486943487487, 116.22375987540917, 0.0)\n",
      "Vector(-242.7343130376844, 116.03176976577484, 0.0)\n",
      "Vector(-242.77986042258473, 115.81244937062486, 0.0)\n",
      "Vector(-242.83169918494679, 115.56583886250169, 0.0)\n",
      "Vector(-242.8900328174767, 115.29198271903242, 0.0)\n",
      "Vector(-242.9550742071138, 114.99092854179172, 0.0)\n",
      "Vector(-243.0270371171648, 114.662725343183, 0.0)\n",
      "Vector(-243.10504599277473, 114.30718263783514, 0.0)\n",
      "Vector(-243.1886609272934, 113.92420412313041, 0.0)\n",
      "Vector(-243.27742104937232, 113.51369024915228, 0.0)\n",
      "Vector(-243.3707341011009, 113.07551599799515, 0.0)\n",
      "Vector(-243.46786948757634, 112.6095323966804, 0.0)\n",
      "Vector(-243.56796454447172, 112.11557189260633, 0.0)\n",
      "Vector(-243.67004162797244, 111.59345670510075, 0.0)\n",
      "Vector(-243.7730372040591, 111.0430096946569, 0.0)\n",
      "Vector(-243.87584356180577, 110.46406681940334, 0.0)\n",
      "Vector(-243.9773626645081, 109.8564897693212, 0.0)\n",
      "Vector(-244.07657018539263, 109.22017705704842, 0.0)\n",
      "Vector(-244.17258604985733, 108.55507183697335, 0.0)\n",
      "Vector(-244.2647460048638, 107.86116511219458, 0.0)\n",
      "Vector(-244.35266713775536, 107.13849376615195, 0.0)\n",
      "Vector(-244.4362992289306, 106.38713388345548, 0.0)\n",
      "Vector(-244.51595372574823, 105.6071908335238, 0.0)\n",
      "Vector(-244.58692005588455, 104.7982978987129, 0.0)\n",
      "Vector(-244.63823350856342, 103.95986666743977, 0.0)\n",
      "Vector(-244.6685270002761, 103.0923954550299, 0.0)\n",
      "Vector(-244.68001711579683, 102.19646913147125, 0.0)\n",
      "Vector(-244.67660851381302, 101.27247541859626, 0.0)\n",
      "Vector(-244.6629929752417, 100.32057278853927, 0.0)\n",
      "Vector(-244.6440033709214, 99.34075678799235, 0.0)\n",
      "Vector(-244.62407458361182, 98.33295380951076, 0.0)\n",
      "Vector(-244.60681672601783, 97.29709756159251, 0.0)\n",
      "Vector(-244.59448470079994, 96.23316902961584, 0.0)\n",
      "Vector(-244.57112581619944, 95.14141889221708, 0.0)\n",
      "Vector(-244.53149301873054, 94.02212034340859, 0.0)\n"
     ]
    }
   ],
   "source": [
    "scenario = scenic.scenarioFromFile(\"/Users/kxu/Scenic/src/scenic/gym/examples/newtonian1.scenic\",\n",
    "                                   model=\"scenic.simulators.newtonian_gym.driving_model\",\n",
    "                               mode2D=True)\n",
    "\n",
    "reward_fn = lambda obs: np.random.rand()\n",
    "env = ScenicGymEnv(scenario, NewtonianSimulator(), None, max_steps=40) # max_step is max step for an episode\n",
    "env.reset()\n",
    "episode_over = False\n",
    "while not episode_over:\n",
    "    action = env.action_space.sample() # dummy here\n",
    "\n",
    "    observation, reward, terminated, truncated, info = env.step(action)\n",
    "    print(observation[0]['position'])\n",
    "    episode_over = terminated or truncated\n",
    "\n",
    "env.close()"
   ]
  }
 ],
 "metadata": {
  "kernelspec": {
   "display_name": "Python 3 (ipykernel)",
   "language": "python",
   "name": "python3"
  },
  "language_info": {
   "codemirror_mode": {
    "name": "ipython",
    "version": 3
   },
   "file_extension": ".py",
   "mimetype": "text/x-python",
   "name": "python",
   "nbconvert_exporter": "python",
   "pygments_lexer": "ipython3",
   "version": "3.10.6"
  }
 },
 "nbformat": 4,
 "nbformat_minor": 5
}
