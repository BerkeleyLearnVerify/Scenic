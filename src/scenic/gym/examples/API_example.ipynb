{
 "cells": [
  {
   "cell_type": "code",
   "execution_count": 3,
   "id": "00c0a66b",
   "metadata": {},
   "outputs": [
    {
     "name": "stderr",
     "output_type": "stream",
     "text": [
      "/Users/kxu/ScenicGym/src/scenic/core/errors.py:271: UserWarning: unable to install sys.excepthook to format Scenic backtraces\n",
      "  warnings.warn(\"unable to install sys.excepthook to format Scenic backtraces\")\n"
     ]
    }
   ],
   "source": [
    "from scenic.gym import ScenicGymEnv\n",
    "import scenic\n",
    "from scenic.simulators.newtonian_gym import NewtonianSimulator\n",
    "import numpy as np"
   ]
  },
  {
   "cell_type": "code",
   "execution_count": 4,
   "id": "d31fed22",
   "metadata": {},
   "outputs": [
    {
     "name": "stdout",
     "output_type": "stream",
     "text": [
      "Vector(-229.55123240590257, -105.96310186454589, 0.0)\n",
      "Vector(-229.55260060301515, -105.90711858099927, 0.0)\n",
      "Vector(-229.5554368542404, -105.82316647751766, 0.0)\n",
      "Vector(-229.55942010690006, -105.71123733163398, 0.0)\n",
      "Vector(-229.56473654680332, -105.57133831281413, 0.0)\n",
      "Vector(-229.57162662058022, -105.40347966131428, 0.0)\n",
      "Vector(-229.58038254778228, -105.20767533618627, 0.0)\n",
      "Vector(-229.59134483746618, -104.98394373760242, 0.0)\n",
      "Vector(-229.60489612476786, -104.73230836128886, 0.0)\n",
      "Vector(-229.62145174773715, -104.4527982338371, 0.0)\n",
      "Vector(-229.6414465586189, -104.14544793281593, 0.0)\n",
      "Vector(-229.66531760526232, -103.8102969621592, 0.0)\n",
      "Vector(-229.6934825467812, -103.44738824626877, 0.0)\n",
      "Vector(-229.72631399296807, -103.0567655432147, 0.0)\n",
      "Vector(-229.76411038080653, -102.63846967535754, 0.0)\n",
      "Vector(-229.80706451283044, -102.19253364570523, 0.0)\n",
      "Vector(-229.85523145407964, -101.71897694818031, 0.0)\n",
      "Vector(-229.90849807143266, -101.21779966669624, 0.0)\n",
      "Vector(-229.96655703639615, -100.6889772422593, 0.0)\n",
      "Vector(-230.02888075291463, -100.13245612463723, 0.0)\n",
      "Vector(-230.0922322310028, -99.54787884982744, 0.0)\n",
      "Vector(-230.15488519757196, -98.93507332947038, 0.0)\n",
      "Vector(-230.21516766059372, -98.29390094652487, 0.0)\n",
      "Vector(-230.27136464915418, -97.62425484709867, 0.0)\n",
      "Vector(-230.32179222083684, -96.92607359554991, 0.0)\n",
      "Vector(-230.36490434794638, -96.199351265842, 0.0)\n",
      "Vector(-230.3994075774547, -95.44413902603553, 0.0)\n",
      "Vector(-230.42436981230853, -94.66053652040458, 0.0)\n",
      "Vector(-230.43930962079665, -93.84867396915446, 0.0)\n",
      "Vector(-230.4442525412184, -93.00868851241268, 0.0)\n",
      "Vector(-230.43974288537495, -92.14070022735108, 0.0)\n",
      "Vector(-230.42680398372104, -91.24479365586943, 0.0)\n",
      "Vector(-230.40684639961395, -90.32100921411009, 0.0)\n",
      "Vector(-230.38153152564885, -89.369345850753, 0.0)\n",
      "Vector(-230.352605858664, -88.38977282856963, 0.0)\n",
      "Vector(-230.3217275926958, -87.38224588962915, 0.0)\n",
      "Vector(-230.29031046160523, -86.34672236798706, 0.0)\n",
      "Vector(-230.25940880420032, -85.2831711996977, 0.0)\n",
      "Vector(-230.22966203042435, -84.19157643539644, 0.0)\n",
      "Vector(-230.2013064094419, -83.07193543991677, 0.0)\n"
     ]
    }
   ],
   "source": [
    "scenario = scenic.scenarioFromFile(\"/Users/kxu/scenicgym/src/scenic/gym/examples/newtonian1.scenic\",\n",
    "                                   model=\"scenic.simulators.newtonian_gym.driving_model\",\n",
    "                               mode2D=True)\n",
    "\n",
    "reward_fn = lambda obs: np.random.rand()\n",
    "env = ScenicGymEnv(scenario, NewtonianSimulator(), None, max_steps=40) # max_step is max step for an episode\n",
    "env.reset()\n",
    "episode_over = False\n",
    "while not episode_over:\n",
    "    action = env.action_space.sample() # dummy here\n",
    "\n",
    "    observation, reward, terminated, truncated, info = env.step(action)\n",
    "    print(observation[0]['position'])\n",
    "    episode_over = terminated or truncated\n",
    "\n",
    "env.close()"
   ]
  },
  {
   "cell_type": "code",
   "execution_count": 2,
   "id": "4e427ec5",
   "metadata": {},
   "outputs": [
    {
     "ename": "AssertionError",
     "evalue": "",
     "output_type": "error",
     "traceback": [
      "\u001b[0;31m---------------------------------------------------------------------------\u001b[0m",
      "\u001b[0;31mAssertionError\u001b[0m                            Traceback (most recent call last)",
      "Cell \u001b[0;32mIn [2], line 8\u001b[0m\n\u001b[1;32m      5\u001b[0m envs \u001b[38;5;241m=\u001b[39m [ScenicGymEnv(scenarios[i], simulators[i], \u001b[38;5;28;01mNone\u001b[39;00m, max_steps\u001b[38;5;241m=\u001b[39m\u001b[38;5;241m40\u001b[39m) \u001b[38;5;28;01mfor\u001b[39;00m i \u001b[38;5;129;01min\u001b[39;00m \u001b[38;5;28mrange\u001b[39m(\u001b[38;5;241m10\u001b[39m)]\n\u001b[1;32m      7\u001b[0m \u001b[38;5;28;01mfor\u001b[39;00m env \u001b[38;5;129;01min\u001b[39;00m envs:\n\u001b[0;32m----> 8\u001b[0m     \u001b[43menv\u001b[49m\u001b[38;5;241;43m.\u001b[39;49m\u001b[43mreset\u001b[49m\u001b[43m(\u001b[49m\u001b[43m)\u001b[49m\n\u001b[1;32m     10\u001b[0m episode_over \u001b[38;5;241m=\u001b[39m [\u001b[38;5;28;01mFalse\u001b[39;00m \u001b[38;5;28;01mfor\u001b[39;00m _ \u001b[38;5;129;01min\u001b[39;00m \u001b[38;5;28mrange\u001b[39m(\u001b[38;5;241m10\u001b[39m)]\n\u001b[1;32m     11\u001b[0m \u001b[38;5;28;01mwhile\u001b[39;00m \u001b[38;5;129;01mnot\u001b[39;00m \u001b[38;5;28mall\u001b[39m(episode_over):\n",
      "File \u001b[0;32m~/Scenic/src/scenic/gym/envs/scenic_gym.py:81\u001b[0m, in \u001b[0;36mScenicGymEnv.reset\u001b[0;34m(self, seed, options)\u001b[0m\n\u001b[1;32m     79\u001b[0m \u001b[38;5;28;01mif\u001b[39;00m \u001b[38;5;28mself\u001b[39m\u001b[38;5;241m.\u001b[39mloop \u001b[38;5;129;01mis\u001b[39;00m \u001b[38;5;28;01mNone\u001b[39;00m:\n\u001b[1;32m     80\u001b[0m     \u001b[38;5;28mself\u001b[39m\u001b[38;5;241m.\u001b[39mloop \u001b[38;5;241m=\u001b[39m \u001b[38;5;28mself\u001b[39m\u001b[38;5;241m.\u001b[39m_make_run_loop()\n\u001b[0;32m---> 81\u001b[0m     observation, info \u001b[38;5;241m=\u001b[39m \u001b[38;5;28;43mnext\u001b[39;49m\u001b[43m(\u001b[49m\u001b[38;5;28;43mself\u001b[39;49m\u001b[38;5;241;43m.\u001b[39;49m\u001b[43mloop\u001b[49m\u001b[43m)\u001b[49m \u001b[38;5;66;03m# not doing self.scene.send(action) just yet\u001b[39;00m\n\u001b[1;32m     82\u001b[0m \u001b[38;5;28;01melse\u001b[39;00m:\n\u001b[1;32m     83\u001b[0m     observation, info \u001b[38;5;241m=\u001b[39m \u001b[38;5;28mself\u001b[39m\u001b[38;5;241m.\u001b[39mloop\u001b[38;5;241m.\u001b[39mthrow(ResetException())\n",
      "File \u001b[0;32m~/Scenic/src/scenic/gym/envs/scenic_gym.py:43\u001b[0m, in \u001b[0;36mScenicGymEnv._make_run_loop\u001b[0;34m(self)\u001b[0m\n\u001b[1;32m     41\u001b[0m \u001b[38;5;28;01mwhile\u001b[39;00m \u001b[38;5;28;01mTrue\u001b[39;00m:\n\u001b[1;32m     42\u001b[0m     \u001b[38;5;28;01mtry\u001b[39;00m:\n\u001b[0;32m---> 43\u001b[0m         scene, _ \u001b[38;5;241m=\u001b[39m \u001b[38;5;28;43mself\u001b[39;49m\u001b[38;5;241;43m.\u001b[39;49m\u001b[43mscenario\u001b[49m\u001b[38;5;241;43m.\u001b[39;49m\u001b[43mgenerate\u001b[49m\u001b[43m(\u001b[49m\u001b[43mfeedback\u001b[49m\u001b[38;5;241;43m=\u001b[39;49m\u001b[38;5;28;43mself\u001b[39;49m\u001b[38;5;241;43m.\u001b[39;49m\u001b[43mfeedback_result\u001b[49m\u001b[43m)\u001b[49m\n\u001b[1;32m     44\u001b[0m         \u001b[38;5;28;01mwith\u001b[39;00m \u001b[38;5;28mself\u001b[39m\u001b[38;5;241m.\u001b[39msimulator\u001b[38;5;241m.\u001b[39msimulateStepped(scene, maxSteps\u001b[38;5;241m=\u001b[39m\u001b[38;5;28mself\u001b[39m\u001b[38;5;241m.\u001b[39mmax_steps) \u001b[38;5;28;01mas\u001b[39;00m simulation:\n\u001b[1;32m     45\u001b[0m             steps_taken \u001b[38;5;241m=\u001b[39m \u001b[38;5;241m0\u001b[39m\n",
      "File \u001b[0;32m~/Scenic/src/scenic/core/scenarios.py:403\u001b[0m, in \u001b[0;36mScenario.generate\u001b[0;34m(self, maxIterations, verbosity, feedback)\u001b[0m\n\u001b[1;32m    386\u001b[0m \u001b[38;5;28;01mdef\u001b[39;00m \u001b[38;5;21mgenerate\u001b[39m(\u001b[38;5;28mself\u001b[39m, maxIterations\u001b[38;5;241m=\u001b[39m\u001b[38;5;241m2000\u001b[39m, verbosity\u001b[38;5;241m=\u001b[39m\u001b[38;5;241m0\u001b[39m, feedback\u001b[38;5;241m=\u001b[39m\u001b[38;5;28;01mNone\u001b[39;00m):\n\u001b[1;32m    387\u001b[0m     \u001b[38;5;124;03m\"\"\"Sample a `Scene` from this scenario.\u001b[39;00m\n\u001b[1;32m    388\u001b[0m \n\u001b[1;32m    389\u001b[0m \u001b[38;5;124;03m    For a description of how scene generation is done, see `scene generation`.\u001b[39;00m\n\u001b[0;32m   (...)\u001b[0m\n\u001b[1;32m    401\u001b[0m \u001b[38;5;124;03m        `RejectionException`: if no valid sample is found in **maxIterations** iterations.\u001b[39;00m\n\u001b[1;32m    402\u001b[0m \u001b[38;5;124;03m    \"\"\"\u001b[39;00m\n\u001b[0;32m--> 403\u001b[0m     scenes, iterations \u001b[38;5;241m=\u001b[39m \u001b[38;5;28;43mself\u001b[39;49m\u001b[38;5;241;43m.\u001b[39;49m\u001b[43mgenerateBatch\u001b[49m\u001b[43m(\u001b[49m\u001b[38;5;241;43m1\u001b[39;49m\u001b[43m,\u001b[49m\u001b[43m \u001b[49m\u001b[43mmaxIterations\u001b[49m\u001b[43m,\u001b[49m\u001b[43m \u001b[49m\u001b[43mverbosity\u001b[49m\u001b[43m,\u001b[49m\u001b[43m \u001b[49m\u001b[43mfeedback\u001b[49m\u001b[43m)\u001b[49m\n\u001b[1;32m    404\u001b[0m     \u001b[38;5;28;01mreturn\u001b[39;00m scenes[\u001b[38;5;241m0\u001b[39m], iterations\n",
      "File \u001b[0;32m~/Scenic/src/scenic/core/scenarios.py:433\u001b[0m, in \u001b[0;36mScenario.generateBatch\u001b[0;34m(self, numScenes, maxIterations, verbosity, feedback)\u001b[0m\n\u001b[1;32m    431\u001b[0m \u001b[38;5;28;01mtry\u001b[39;00m:\n\u001b[1;32m    432\u001b[0m     remainingIts \u001b[38;5;241m=\u001b[39m maxIterations \u001b[38;5;241m-\u001b[39m totalIterations\n\u001b[0;32m--> 433\u001b[0m     scene, iterations \u001b[38;5;241m=\u001b[39m \u001b[38;5;28;43mself\u001b[39;49m\u001b[38;5;241;43m.\u001b[39;49m\u001b[43m_generateInner\u001b[49m\u001b[43m(\u001b[49m\u001b[43mremainingIts\u001b[49m\u001b[43m,\u001b[49m\u001b[43m \u001b[49m\u001b[43mverbosity\u001b[49m\u001b[43m,\u001b[49m\u001b[43m \u001b[49m\u001b[43mfeedback\u001b[49m\u001b[43m)\u001b[49m\n\u001b[1;32m    434\u001b[0m     scenes\u001b[38;5;241m.\u001b[39mappend(scene)\n\u001b[1;32m    435\u001b[0m     totalIterations \u001b[38;5;241m+\u001b[39m\u001b[38;5;241m=\u001b[39m iterations\n",
      "File \u001b[0;32m~/Scenic/src/scenic/core/scenarios.py:483\u001b[0m, in \u001b[0;36mScenario._generateInner\u001b[0;34m(self, maxIterations, verbosity, feedback)\u001b[0m\n\u001b[1;32m    480\u001b[0m \u001b[38;5;66;03m# Check validity of sample, storing state so that\u001b[39;00m\n\u001b[1;32m    481\u001b[0m \u001b[38;5;66;03m# checker heuristics don't affect determinism\u001b[39;00m\n\u001b[1;32m    482\u001b[0m rand_state, np_state \u001b[38;5;241m=\u001b[39m random\u001b[38;5;241m.\u001b[39mgetstate(), numpy\u001b[38;5;241m.\u001b[39mrandom\u001b[38;5;241m.\u001b[39mget_state()\n\u001b[0;32m--> 483\u001b[0m rejection \u001b[38;5;241m=\u001b[39m \u001b[38;5;28;43mself\u001b[39;49m\u001b[38;5;241;43m.\u001b[39;49m\u001b[43mchecker\u001b[49m\u001b[38;5;241;43m.\u001b[39;49m\u001b[43mcheckRequirements\u001b[49m\u001b[43m(\u001b[49m\u001b[43msample\u001b[49m\u001b[43m)\u001b[49m\n\u001b[1;32m    484\u001b[0m random\u001b[38;5;241m.\u001b[39msetstate(rand_state)\n\u001b[1;32m    485\u001b[0m numpy\u001b[38;5;241m.\u001b[39mrandom\u001b[38;5;241m.\u001b[39mset_state(np_state)\n",
      "File \u001b[0;32m~/Scenic/src/scenic/core/sample_checking.py:26\u001b[0m, in \u001b[0;36mSampleChecker.checkRequirements\u001b[0;34m(self, sample)\u001b[0m\n\u001b[1;32m     24\u001b[0m \u001b[38;5;28;01massert\u001b[39;00m \u001b[38;5;28mself\u001b[39m\u001b[38;5;241m.\u001b[39mrequirements \u001b[38;5;129;01mis\u001b[39;00m \u001b[38;5;129;01mnot\u001b[39;00m \u001b[38;5;28;01mNone\u001b[39;00m\n\u001b[1;32m     25\u001b[0m \u001b[38;5;28;01mtry\u001b[39;00m:\n\u001b[0;32m---> 26\u001b[0m     \u001b[38;5;28;01mreturn\u001b[39;00m \u001b[38;5;28;43mself\u001b[39;49m\u001b[38;5;241;43m.\u001b[39;49m\u001b[43mcheckRequirementsInner\u001b[49m\u001b[43m(\u001b[49m\u001b[43msample\u001b[49m\u001b[43m)\u001b[49m\n\u001b[1;32m     27\u001b[0m \u001b[38;5;28;01mexcept\u001b[39;00m RejectionException \u001b[38;5;28;01mas\u001b[39;00m e:\n\u001b[1;32m     28\u001b[0m     \u001b[38;5;28;01mreturn\u001b[39;00m e\n",
      "File \u001b[0;32m~/Scenic/src/scenic/core/sample_checking.py:94\u001b[0m, in \u001b[0;36mWeightedAcceptanceChecker.checkRequirementsInner\u001b[0;34m(self, sample)\u001b[0m\n\u001b[1;32m     91\u001b[0m \u001b[38;5;28;01mfor\u001b[39;00m req \u001b[38;5;129;01min\u001b[39;00m \u001b[38;5;28mself\u001b[39m\u001b[38;5;241m.\u001b[39msortedRequirements():\n\u001b[1;32m     92\u001b[0m     \u001b[38;5;66;03m# Evaluate the requirement with timing info.\u001b[39;00m\n\u001b[1;32m     93\u001b[0m     start \u001b[38;5;241m=\u001b[39m time\u001b[38;5;241m.\u001b[39mperf_counter()\n\u001b[0;32m---> 94\u001b[0m     rejected \u001b[38;5;241m=\u001b[39m \u001b[43mreq\u001b[49m\u001b[38;5;241;43m.\u001b[39;49m\u001b[43mfalsifiedBy\u001b[49m\u001b[43m(\u001b[49m\u001b[43msample\u001b[49m\u001b[43m)\u001b[49m\n\u001b[1;32m     95\u001b[0m     \u001b[38;5;66;03m# Create metrics (Accepted, Time Taken)\u001b[39;00m\n\u001b[1;32m     96\u001b[0m     metrics \u001b[38;5;241m=\u001b[39m (\u001b[38;5;28mint\u001b[39m(\u001b[38;5;129;01mnot\u001b[39;00m rejected), time\u001b[38;5;241m.\u001b[39mperf_counter() \u001b[38;5;241m-\u001b[39m start)\n",
      "File \u001b[0;32m~/Scenic/src/scenic/core/requirements.py:285\u001b[0m, in \u001b[0;36mSamplingRequirement.falsifiedBy\u001b[0;34m(self, sample)\u001b[0m\n\u001b[1;32m    283\u001b[0m \u001b[38;5;28;01mdef\u001b[39;00m \u001b[38;5;21mfalsifiedBy\u001b[39m(\u001b[38;5;28mself\u001b[39m, sample):\n\u001b[1;32m    284\u001b[0m     \u001b[38;5;28;01massert\u001b[39;00m \u001b[38;5;28mself\u001b[39m\u001b[38;5;241m.\u001b[39mactive\n\u001b[0;32m--> 285\u001b[0m     \u001b[38;5;28;01mreturn\u001b[39;00m \u001b[38;5;28;43mself\u001b[39;49m\u001b[38;5;241;43m.\u001b[39;49m\u001b[43mfalsifiedByInner\u001b[49m\u001b[43m(\u001b[49m\u001b[43msample\u001b[49m\u001b[43m)\u001b[49m\n",
      "File \u001b[0;32m~/Scenic/src/scenic/core/requirements.py:402\u001b[0m, in \u001b[0;36mCompiledRequirement.falsifiedByInner\u001b[0;34m(self, sample)\u001b[0m\n\u001b[1;32m    400\u001b[0m \u001b[38;5;28;01mdef\u001b[39;00m \u001b[38;5;21mfalsifiedByInner\u001b[39m(\u001b[38;5;28mself\u001b[39m, sample):\n\u001b[1;32m    401\u001b[0m     one_time_monitor \u001b[38;5;241m=\u001b[39m \u001b[38;5;28mself\u001b[39m\u001b[38;5;241m.\u001b[39mproposition\u001b[38;5;241m.\u001b[39mcreate_monitor()\n\u001b[0;32m--> 402\u001b[0m     \u001b[38;5;28;01mreturn\u001b[39;00m \u001b[38;5;28;43mself\u001b[39;49m\u001b[38;5;241;43m.\u001b[39;49m\u001b[43mclosure\u001b[49m\u001b[43m(\u001b[49m\u001b[43msample\u001b[49m\u001b[43m,\u001b[49m\u001b[43m \u001b[49m\u001b[43mone_time_monitor\u001b[49m\u001b[43m)\u001b[49m \u001b[38;5;241m==\u001b[39m rv_ltl\u001b[38;5;241m.\u001b[39mB4\u001b[38;5;241m.\u001b[39mFALSE\n",
      "File \u001b[0;32m~/Scenic/src/scenic/core/requirements.py:117\u001b[0m, in \u001b[0;36mPendingRequirement.compile.<locals>.closure\u001b[0;34m(values, monitor)\u001b[0m\n\u001b[1;32m    114\u001b[0m \u001b[38;5;66;03m# evaluate requirement condition, reporting errors on the correct line\u001b[39;00m\n\u001b[1;32m    115\u001b[0m \u001b[38;5;28;01mimport\u001b[39;00m \u001b[38;5;21;01mscenic\u001b[39;00m\u001b[38;5;21;01m.\u001b[39;00m\u001b[38;5;21;01msyntax\u001b[39;00m\u001b[38;5;21;01m.\u001b[39;00m\u001b[38;5;21;01mveneer\u001b[39;00m \u001b[38;5;28;01mas\u001b[39;00m \u001b[38;5;21;01mveneer\u001b[39;00m\n\u001b[0;32m--> 117\u001b[0m \u001b[38;5;28;01mwith\u001b[39;00m veneer\u001b[38;5;241m.\u001b[39mexecuteInRequirement(scenario, boundEgo, values):\n\u001b[1;32m    118\u001b[0m     \u001b[38;5;28;01mif\u001b[39;00m monitor \u001b[38;5;129;01mis\u001b[39;00m \u001b[38;5;28;01mNone\u001b[39;00m:\n\u001b[1;32m    119\u001b[0m         \u001b[38;5;66;03m# if not temporal evaluation\u001b[39;00m\n\u001b[1;32m    120\u001b[0m         result \u001b[38;5;241m=\u001b[39m condition\u001b[38;5;241m.\u001b[39mevaluate()\n",
      "File \u001b[0;32m~/mambaforge/envs/scenicgym/lib/python3.10/contextlib.py:135\u001b[0m, in \u001b[0;36m_GeneratorContextManager.__enter__\u001b[0;34m(self)\u001b[0m\n\u001b[1;32m    133\u001b[0m \u001b[38;5;28;01mdel\u001b[39;00m \u001b[38;5;28mself\u001b[39m\u001b[38;5;241m.\u001b[39margs, \u001b[38;5;28mself\u001b[39m\u001b[38;5;241m.\u001b[39mkwds, \u001b[38;5;28mself\u001b[39m\u001b[38;5;241m.\u001b[39mfunc\n\u001b[1;32m    134\u001b[0m \u001b[38;5;28;01mtry\u001b[39;00m:\n\u001b[0;32m--> 135\u001b[0m     \u001b[38;5;28;01mreturn\u001b[39;00m \u001b[38;5;28;43mnext\u001b[39;49m\u001b[43m(\u001b[49m\u001b[38;5;28;43mself\u001b[39;49m\u001b[38;5;241;43m.\u001b[39;49m\u001b[43mgen\u001b[49m\u001b[43m)\u001b[49m\n\u001b[1;32m    136\u001b[0m \u001b[38;5;28;01mexcept\u001b[39;00m \u001b[38;5;167;01mStopIteration\u001b[39;00m:\n\u001b[1;32m    137\u001b[0m     \u001b[38;5;28;01mraise\u001b[39;00m \u001b[38;5;167;01mRuntimeError\u001b[39;00m(\u001b[38;5;124m\"\u001b[39m\u001b[38;5;124mgenerator didn\u001b[39m\u001b[38;5;124m'\u001b[39m\u001b[38;5;124mt yield\u001b[39m\u001b[38;5;124m\"\u001b[39m) \u001b[38;5;28;01mfrom\u001b[39;00m \u001b[38;5;28mNone\u001b[39m\n",
      "File \u001b[0;32m~/Scenic/src/scenic/syntax/veneer.py:530\u001b[0m, in \u001b[0;36mexecuteInRequirement\u001b[0;34m(scenario, boundEgo, values)\u001b[0m\n\u001b[1;32m    528\u001b[0m     clearScenario \u001b[38;5;241m=\u001b[39m \u001b[38;5;28;01mTrue\u001b[39;00m\n\u001b[1;32m    529\u001b[0m \u001b[38;5;28;01melse\u001b[39;00m:\n\u001b[0;32m--> 530\u001b[0m     \u001b[38;5;28;01massert\u001b[39;00m currentScenario \u001b[38;5;129;01mis\u001b[39;00m scenario\n\u001b[1;32m    531\u001b[0m     clearScenario \u001b[38;5;241m=\u001b[39m \u001b[38;5;28;01mFalse\u001b[39;00m\n\u001b[1;32m    532\u001b[0m oldEgo \u001b[38;5;241m=\u001b[39m currentScenario\u001b[38;5;241m.\u001b[39m_ego\n",
      "\u001b[0;31mAssertionError\u001b[0m: "
     ]
    }
   ],
   "source": [
    "scenarios = [scenic.scenarioFromFile(\"/Users/kxu/Scenic/src/scenic/gym/examples/newtonian1.scenic\",\n",
    "                                   model=\"scenic.simulators.newtonian_gym.driving_model\",\n",
    "                               mode2D=True) for _ in range(10)]\n",
    "simulators = [NewtonianSimulator() for _ in range(10)]\n",
    "envs = [ScenicGymEnv(scenarios[i], simulators[i], None, max_steps=40) for i in range(10)]\n",
    "\n",
    "for env in envs:\n",
    "    env.reset()\n",
    "\n",
    "episode_over = [False for _ in range(10)]\n",
    "while not all(episode_over):\n",
    "    for i, env in enumerate(envs):\n",
    "        action = env.action_space.sample() # dummy here\n",
    "\n",
    "        observation, reward, terminated, truncated, info = env.step(action)\n",
    "        print(observation[0]['position'])\n",
    "        episode_over[i] = terminated or truncated\n",
    "\n",
    "for env in envs:\n",
    "    env.close()"
   ]
  },
  {
   "cell_type": "code",
   "execution_count": null,
   "id": "3c962590",
   "metadata": {},
   "outputs": [],
   "source": []
  }
 ],
 "metadata": {
  "kernelspec": {
   "display_name": "Python 3 (ipykernel)",
   "language": "python",
   "name": "python3"
  },
  "language_info": {
   "codemirror_mode": {
    "name": "ipython",
    "version": 3
   },
   "file_extension": ".py",
   "mimetype": "text/x-python",
   "name": "python",
   "nbconvert_exporter": "python",
   "pygments_lexer": "ipython3",
   "version": "3.10.0"
  }
 },
 "nbformat": 4,
 "nbformat_minor": 5
}
