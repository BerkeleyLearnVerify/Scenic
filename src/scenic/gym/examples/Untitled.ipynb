{
 "cells": [
  {
   "cell_type": "code",
   "execution_count": 1,
   "id": "00c0a66b",
   "metadata": {},
   "outputs": [
    {
     "name": "stderr",
     "output_type": "stream",
     "text": [
      "/Users/kxu/Scenic/src/scenic/core/errors.py:271: UserWarning: unable to install sys.excepthook to format Scenic backtraces\n",
      "  warnings.warn(\"unable to install sys.excepthook to format Scenic backtraces\")\n",
      "/Users/kxu/mambaforge/envs/scenicgym/lib/python3.10/site-packages/trimesh/grouping.py:15: UserWarning: A NumPy version >=1.23.5 and <2.3.0 is required for this version of SciPy (detected version 1.23.4)\n",
      "  from scipy.spatial import cKDTree\n"
     ]
    }
   ],
   "source": [
    "from scenic.gym import ScenicGymEnv\n",
    "import scenic\n",
    "from scenic.simulators.newtonian_gym import NewtonianSimulator\n",
    "from scenic.simulators.carla import CarlaSimulator\n",
    "import numpy as np"
   ]
  },
  {
   "cell_type": "code",
   "execution_count": 2,
   "id": "d31fed22",
   "metadata": {},
   "outputs": [
    {
     "name": "stdout",
     "output_type": "stream",
     "text": [
      "Vector(-221.64034610608928, -86.21116775956887, 0.0)\n",
      "Vector(-221.72434039145512, -86.21214756867415, 0.0)\n",
      "Vector(-221.8363249915728, -86.21400480761342, 0.0)\n",
      "Vector(-221.9762872530763, -86.21725524678783, 0.0)\n",
      "Vector(-222.1442033108555, -86.22256538236944, 0.0)\n",
      "Vector(-222.3400323839207, -86.23074915548604, 0.0)\n",
      "Vector(-222.563710130906, -86.24276021304013, 0.0)\n",
      "Vector(-222.81514168279986, -86.25967691225252, 0.0)\n",
      "Vector(-223.0941953183173, -86.28267840143246, 0.0)\n",
      "Vector(-223.40069813518338, -86.31301028652328, 0.0)\n",
      "Vector(-223.73443541595026, -86.35193877771324, 0.0)\n",
      "Vector(-224.09515558489105, -86.40069285158744, 0.0)\n",
      "Vector(-224.48258256792684, -86.46039488518579, 0.0)\n",
      "Vector(-224.89643685399494, -86.53198140558645, 0.0)\n",
      "Vector(-225.33646549361546, -86.6161169885089, 0.0)\n",
      "Vector(-225.8024796220987, -86.71310581288584, 0.0)\n",
      "Vector(-226.29439597610744, -86.82280677303999, 0.0)\n",
      "Vector(-226.8122766073984, -86.9445591928668, 0.0)\n",
      "Vector(-227.35635913135732, -87.07712693827453, 0.0)\n",
      "Vector(-227.92706907591543, -87.21866901393571, 0.0)\n",
      "Vector(-228.52500689640615, -87.36674454475289, 0.0)\n",
      "Vector(-229.15090541062062, -87.51835935242066, 0.0)\n",
      "Vector(-229.80555869162728, -87.67005998415048, 0.0)\n",
      "Vector(-230.48973006701345, -87.8180786623712, 0.0)\n",
      "Vector(-231.20405338152767, -87.95852866180671, 0.0)\n",
      "Vector(-231.94894621301978, -88.0876436090114, 0.0)\n",
      "Vector(-232.7245544041752, -88.20204611690616, 0.0)\n",
      "Vector(-233.53074278536565, -88.29902185631306, 0.0)\n",
      "Vector(-234.36713728491884, -88.3767665739288, 0.0)\n",
      "Vector(-235.23321056636692, -88.43456857356333, 0.0)\n",
      "Vector(-236.128390661591, -88.47289085317465, 0.0)\n",
      "Vector(-237.05216463143, -88.49332740493621, 0.0)\n",
      "Vector(-238.004150974484, -88.49842668318877, 0.0)\n",
      "Vector(-238.9841257726355, -88.49139852639851, 0.0)\n",
      "Vector(-239.99200419707714, -88.47574344591172, 0.0)\n",
      "Vector(-241.0277936866404, -88.45485964093551, 0.0)\n",
      "Vector(-242.09152266962013, -88.4308460870779, 0.0)\n",
      "Vector(-243.1830917692146, -88.40017198056222, 0.0)\n",
      "Vector(-244.3020663338478, -88.35225618249997, 0.0)\n"
     ]
    }
   ],
   "source": [
    "scenario = scenic.scenarioFromFile(\"/Users/kxu/Scenic/src/scenic/gym/examples/newtonian1.scenic\",\n",
    "                                   model=\"scenic.simulators.newtonian_gym.driving_model\",\n",
    "                               mode2D=True)\n",
    "\n",
    "reward_fn = lambda obs: np.random.rand()\n",
    "env = ScenicGymEnv(scenario, NewtonianSimulator(), reward_fn, max_steps=40) # max_step is max step for an episode\n",
    "env.reset()\n",
    "episode_over = False\n",
    "while not episode_over:\n",
    "    action = env.sample_action() # dummy here\n",
    "\n",
    "    observation, reward, terminated, truncated, info = env.step(action)\n",
    "    print(observation[0]['position'])\n",
    "    episode_over = terminated or truncated\n",
    "\n",
    "env.close()"
   ]
  },
  {
   "cell_type": "code",
   "execution_count": null,
   "id": "228ccb8a",
   "metadata": {},
   "outputs": [],
   "source": []
  },
  {
   "cell_type": "code",
   "execution_count": null,
   "id": "672a00ed",
   "metadata": {},
   "outputs": [],
   "source": []
  },
  {
   "cell_type": "code",
   "execution_count": null,
   "id": "01287634",
   "metadata": {},
   "outputs": [],
   "source": []
  },
  {
   "cell_type": "code",
   "execution_count": null,
   "id": "e2db60b7",
   "metadata": {},
   "outputs": [],
   "source": []
  },
  {
   "cell_type": "code",
   "execution_count": 3,
   "id": "d9204256",
   "metadata": {},
   "outputs": [],
   "source": [
    "reward_fn = lambda obs: np.random.rand()\n",
    "env = ScenicGymEnv(scenario, NewtonianSimulator(), reward_fn, max_steps=20)"
   ]
  },
  {
   "cell_type": "code",
   "execution_count": 4,
   "id": "8fa1fb50",
   "metadata": {},
   "outputs": [
    {
     "data": {
      "text/plain": [
       "([{'position': Vector(-228.87896001398207, -108.27874957391954, 0.0),\n",
       "   'yaw': 0.000973370004694768,\n",
       "   'pitch': 0,\n",
       "   'roll': 0,\n",
       "   'velocity': Vector(-0.006568520120290569, 0.2799229439389157, 0),\n",
       "   'speed': 0.27999999999999997,\n",
       "   'angularSpeed': 0.009733700046947697,\n",
       "   'angularVelocity': Vector(0, 0, 0),\n",
       "   'elevation': 0.0},\n",
       "  {'position': Vector(-222.03345761721792, -78.2812718812909, 0),\n",
       "   'yaw': 0.20196236173122942,\n",
       "   'pitch': 0,\n",
       "   'roll': 0,\n",
       "   'velocity': Vector(0, 0.0, 0),\n",
       "   'speed': 0.0,\n",
       "   'angularSpeed': 0,\n",
       "   'angularVelocity': Vector(0, 0, 0),\n",
       "   'elevation': 0.0}],\n",
       " None)"
      ]
     },
     "execution_count": 4,
     "metadata": {},
     "output_type": "execute_result"
    }
   ],
   "source": [
    "env.reset()"
   ]
  },
  {
   "cell_type": "code",
   "execution_count": 5,
   "id": "b42c54a9",
   "metadata": {},
   "outputs": [
    {
     "name": "stdout",
     "output_type": "stream",
     "text": [
      "None\n"
     ]
    }
   ],
   "source": [
    "episode_over = False\n",
    "while not episode_over:\n",
    "    action = 1  # agent policy that uses the observation and info\n",
    "    result = env.step(action)\n",
    "    print(result)\n",
    "    #observation, reward, terminated, truncated, info = env.step(action)\n",
    "\n",
    "    episode_over = True\n",
    "\n",
    "#env.close()"
   ]
  },
  {
   "cell_type": "code",
   "execution_count": 4,
   "id": "a6e91832",
   "metadata": {},
   "outputs": [
    {
     "name": "stdout",
     "output_type": "stream",
     "text": [
      "<scenic.core.scenarios.Scene object at 0x17fd26e30>\n",
      "[{'position': Vector(-231.2575807706928, -16.809965944424, 0.0), 'yaw': 0.0009733700046947709, 'pitch': 0, 'roll': 0, 'velocity': Vector(0.003958266735055773, 0.2799720202528355, 0), 'speed': 0.27999999999999997, 'angularSpeed': 0.009733700046947697, 'angularVelocity': Vector(0, 0, 0), 'elevation': 0.0}, {'position': Vector(-221.1583585703826, 10.658733802726697, 0), 'yaw': -0.19104185921838654, 'pitch': 0, 'roll': 0, 'velocity': Vector(0, 0.0, 0), 'speed': 0.0, 'angularSpeed': 0, 'angularVelocity': Vector(0, 0, 0), 'elevation': 0.0}]\n"
     ]
    }
   ],
   "source": [
    "result = None{}\n",
    "scene, _ = scenario.generate(feedback=result)\n",
    "print(scene)\n",
    "simulator = NewtonianSimulator()\n",
    "\n",
    "with simulator.simulateStepped(scene, maxSteps=20) as simulation:\n",
    "    simulation.advance()\n",
    "    observation = simulation.get_obs()\n",
    "    print(observation)"
   ]
  },
  {
   "cell_type": "code",
   "execution_count": null,
   "id": "e4606e7e",
   "metadata": {},
   "outputs": [],
   "source": [
    "result = None\n",
    "\n",
    "for i in range(100):\n",
    "    scene, _ = scenario.generate(feedback=result)\n",
    "    simulator = NewtonianSimulator()\n",
    "    simulation = simulator.simulate(scene, maxSteps=20)\n",
    "    if simulation:  # `simulate` can return None if simulation fails\n",
    "            result = simulation.result\n",
    "            dist = []\n",
    "            for i, state in enumerate(result.trajectory):\n",
    "                    egoPos, parkedCarPos = state\n",
    "                    #print(f'Time step {i}: ego at {egoPos}; parked car at {parkedCarPos}')\n",
    "                    dist.append((egoPos - parkedCarPos).norm())\n",
    "            result = min(dist)\n",
    "            print(f\"Minimum distance recorded: {result}\")"
   ]
  },
  {
   "cell_type": "code",
   "execution_count": null,
   "id": "ec13207f",
   "metadata": {},
   "outputs": [],
   "source": [
    "result = None\n",
    "\n",
    "for i in range(100):\n",
    "    scene, _ = scenario.generate(feedback=result)\n",
    "    simulator = NewtonianSimulator()\n",
    "    simulation = simulator.simulateStepped(scene, maxSteps=20)\n",
    "    "
   ]
  },
  {
   "cell_type": "code",
   "execution_count": null,
   "id": "5d159763",
   "metadata": {},
   "outputs": [],
   "source": []
  },
  {
   "cell_type": "code",
   "execution_count": null,
   "id": "72895948",
   "metadata": {},
   "outputs": [],
   "source": []
  }
 ],
 "metadata": {
  "kernelspec": {
   "display_name": "Python 3 (ipykernel)",
   "language": "python",
   "name": "python3"
  },
  "language_info": {
   "codemirror_mode": {
    "name": "ipython",
    "version": 3
   },
   "file_extension": ".py",
   "mimetype": "text/x-python",
   "name": "python",
   "nbconvert_exporter": "python",
   "pygments_lexer": "ipython3",
   "version": "3.10.0"
  }
 },
 "nbformat": 4,
 "nbformat_minor": 5
}
