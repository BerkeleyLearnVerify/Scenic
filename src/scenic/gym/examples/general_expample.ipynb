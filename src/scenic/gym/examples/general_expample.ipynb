{
 "cells": [
  {
   "cell_type": "code",
   "execution_count": null,
   "id": "00c0a66b",
   "metadata": {},
   "outputs": [],
   "source": [
    "from scenic.gym import ScenicGymEnv\n",
    "import scenic\n",
    "from scenic.simulators.newtonian_gym import NewtonianSimulator\n",
    "import numpy as np"
   ]
  },
  {
   "cell_type": "code",
   "execution_count": null,
   "id": "d31fed22",
   "metadata": {},
   "outputs": [],
   "source": [
    "scenario = scenic.scenarioFromFile(\"/Users/kxu/Scenic/src/scenic/gym/examples/newtonian1.scenic\",\n",
    "                                   model=\"scenic.simulators.newtonian_gym.driving_model\",\n",
    "                               mode2D=True)\n",
    "\n",
    "reward_fn = lambda obs: np.random.rand()\n",
    "env = ScenicGymEnv(scenario, NewtonianSimulator(), None, max_steps=40) # max_step is max step for an episode\n",
    "env.reset()\n",
    "episode_over = False\n",
    "while not episode_over:\n",
    "    action = env.action_space.sample() # dummy here\n",
    "\n",
    "    observation, reward, terminated, truncated, info = env.step(action)\n",
    "    print(observation[0]['position'])\n",
    "    episode_over = terminated or truncated\n",
    "\n",
    "env.close()"
   ]
  },
  {
   "cell_type": "code",
   "execution_count": null,
   "id": "85f5a00d",
   "metadata": {},
   "outputs": [],
   "source": [
    "from scenic.gym import ScenicGymEnv\n",
    "import Gymnasium as gym\n",
    "import scenic\n",
    "from scenic.simulators.habitat import HabitatSimulator\n",
    "\n",
    "# env = gym.make(\"YOUR-RL-ENVIRONMENT\")  # <---Your original RL env\n",
    "\n",
    "# Replace env with a ScenicGym environment below, and run as usual:\n",
    "scenario = scenic.scenarioFromFile(\"your_scenic_program.scenic\")\n",
    "env = ScenicGymEnv(scenario, HabitatSimulator(), max_steps=40)\n",
    "\n",
    "env.reset()\n",
    "episode_over = False\n",
    "\n",
    "while not episode_over:\n",
    "    action = env.action_space.sample()\n",
    "    observation, reward, terminated, truncated, info = env.step(action)\n",
    "    episode_over = terminated or truncated\n",
    "    \n",
    "env.close()"
   ]
  },
  {
   "cell_type": "code",
   "execution_count": null,
   "id": "ac2ef319",
   "metadata": {},
   "outputs": [],
   "source": [
    "from scenic.gym import ScenicGymEnv\n",
    "import scenic\n",
    "from scenic.simulators.habitat import HabitatSimulator\n",
    "from scenic.simulators.isaac_sim import IsaacSimSimulator\n",
    "\n",
    "YOUR_SIMULATOR = HabitatSimulator() # <---- using Habitat\n",
    "# YOUR_SIMULATOR = IsaacSimSimulator() # <--- using IsaacSim\n",
    "\n",
    "scenario = scenic.scenarioFromFile(\"your_scenic_program.scenic\")\n",
    "env = ScenicGymEnv(scenario, YOUR_SIMULATOR, max_steps=40)\n",
    "\n",
    "env.reset()\n",
    "episode_over = False\n",
    "\n",
    "while not episode_over:\n",
    "    action = env.action_space.sample()\n",
    "    observation, reward, terminated, truncated, info = env.step(action)\n",
    "    episode_over = terminated or truncated\n",
    "    \n",
    "env.close()"
   ]
  }
 ],
 "metadata": {
  "kernelspec": {
   "display_name": "Python 3 (ipykernel)",
   "language": "python",
   "name": "python3"
  },
  "language_info": {
   "codemirror_mode": {
    "name": "ipython",
    "version": 3
   },
   "file_extension": ".py",
   "mimetype": "text/x-python",
   "name": "python",
   "nbconvert_exporter": "python",
   "pygments_lexer": "ipython3",
   "version": "3.10.6"
  }
 },
 "nbformat": 4,
 "nbformat_minor": 5
}
